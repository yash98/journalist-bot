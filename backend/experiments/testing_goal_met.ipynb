{
 "cells": [
  {
   "cell_type": "code",
   "execution_count": 1,
   "id": "41a3f2e2-e38b-4277-885e-83dd580c07cc",
   "metadata": {},
   "outputs": [],
   "source": [
    "#!/usr/bin/env python\n",
    "# coding: utf-8\n",
    "\n",
    "import requests\n",
    "import re\n",
    "\n",
    "def generate_response(prompt, max_new_tokens=200):\n",
    "    # Set the API endpoint URL\n",
    "    api_url = \"http://localhost:8000/generate_follow_up/\"  # Update with your actual server URL\n",
    "\n",
    "    # Prepare the request payload\n",
    "    prompt_data = {\"chat_content\": prompt, \"max_new_tokens\" : max_new_tokens}\n",
    "\n",
    "    # Send the POST request\n",
    "    response = requests.post(api_url, json=prompt_data)\n",
    "\n",
    "    if response.status_code == 200:\n",
    "        # The request was successful\n",
    "        generated_text = response.json()[\"generated_follow_up\"]\n",
    "        # print(f\"Generated Text: {generated_text}\")\n",
    "        return generated_text\n",
    "    else:\n",
    "        # Something went wrong\n",
    "        print(f\"Error: {response.status_code}, {response.text}\")\n",
    "        return None\n",
    "\n",
    "prompt_template = \\\n",
    "    \"\"\"\n",
    "    You are an expert in rating surveys by single number, tracking the progress of conversation, questions & particpant's answer in the current context.\n",
    "    Users answer vaguely at times. You can detect when the user has fulfilled your motivation for your question and when not. You dont know how to write english, just numbers.\n",
    "    \n",
    "    Question: {main_question}\n",
    "    Objective of the question: {objectives_left}\n",
    "    \n",
    "    Chat history:-\n",
    "    {chat_history}\n",
    "    \n",
    "    Based on your expert understanding you must give a number only on the conversation on how well the particpant's answer has met the objective of the question.\n",
    "    Answer 1.0 when the conversation completely fullfils the objective, 0.5 if it partially fullfils the objective and 0.0 if it does not fullfill the motivation of the question. \\\n",
    "    Never ever not justify your answer. \n",
    "    Give number between 0.0 to 1.0. Values could be 0.1, 0.2, 0.3, 0.4, 0.5, 0.6, 0.7, 0.8, 0.9, 1.0 \n",
    "    \"\"\"\n",
    "\n",
    "def objective_met_agent(chat_history, main_question, objectives_left):\n",
    "\n",
    "    # fetch response from llm\n",
    "    prompt = prompt_template.format(chat_history=chat_history, main_question=main_question, objectives_left=objectives_left)\n",
    "    # print(\"***\"+prompt+\"***\")\n",
    "    response = generate_response(prompt)\n",
    "\n",
    "    # Use regular expressions to parse llm output\n",
    "    end_of_turn_tags = re.findall(r'<start_of_turn>model(.*?)<eos>', response, re.DOTALL)\n",
    "    # parsed_response = end_of_turn_tags[0].strip().split('\\n')[0]\n",
    "    # print(\"LLM response :\", response)\n",
    "    parsed_response = find_occurrences(response)\n",
    "    print(parsed_response)\n",
    "    return parsed_response.lower() \n",
    "\n",
    "import re\n",
    "\n",
    "\n",
    "def find_occurrences(input_string):\n",
    "    pattern = r'\\b(?:0\\.[1-9]|[1-9]\\.[0-9]|1\\.0)\\b'\n",
    "    occurrences = re.findall(pattern, input_string)\n",
    "    if len(occurrences)>0:\n",
    "        return occurrences[-1]\n",
    "    return 0.0\n",
    "\n"
   ]
  },
  {
   "cell_type": "code",
   "execution_count": 25,
   "id": "7c019526-5ab1-4042-b5e8-e185e2e7caab",
   "metadata": {},
   "outputs": [],
   "source": [
    "prompt_template = \\\n",
    "    \"\"\"\n",
    "    You are an expert in analysing survey questions & particpant's answer as per given chat history.\n",
    "    \n",
    "    Main question: {main_question}\n",
    "    Objective: {objectives_left}\n",
    "    \n",
    "    Chat history:-\n",
    "    {chat_history}\n",
    "    \n",
    "    Based on your analysis you can decide whether or not the particpant's answer meets the objective of the question asked.\n",
    "    Answer \"True\" if it meets the objective and \"False\" if it does not. Only answer True or False and do not try to justify your answer.\n",
    "    \"\"\"\n",
    "\n",
    "def objective_met_agent_old(chat_history, main_question, objectives_left):\n",
    "\n",
    "    # fetch response from llm\n",
    "    prompt = prompt_template.format(chat_history=chat_history, main_question=main_question, objectives_left=objectives_left)\n",
    "    response = generate_response(prompt)\n",
    "\n",
    "    # Use regular expressions to parse llm output\n",
    "    end_of_turn_tags = re.findall(r'<start_of_turn>model(.*?)<eos>', response, re.DOTALL)\n",
    "    parsed_response = end_of_turn_tags[0].strip().split('\\n')[0]\n",
    "\n",
    "    print(\"Parsed LLM response :\", parsed_response)\n",
    "    return parsed_response.lower() == \"true\""
   ]
  },
  {
   "cell_type": "code",
   "execution_count": 2,
   "id": "9fdd8373-268c-4397-b1b1-a37a40b241cf",
   "metadata": {},
   "outputs": [
    {
     "data": {
      "text/plain": [
       "dict_keys(['conversation', 'main_question', 'objective', 'user_characteristics', 'objective_met'])"
      ]
     },
     "execution_count": 2,
     "metadata": {},
     "output_type": "execute_result"
    }
   ],
   "source": [
    "import json\n",
    "test_data = []\n",
    "with open(\"om_manual_set_final.json\", \"r+\") as f:\n",
    "    test_data = json.load(f)\n",
    "test_data[0].keys()"
   ]
  },
  {
   "cell_type": "code",
   "execution_count": 3,
   "id": "b9556b03-6c50-4d05-830f-2a2d1c64856b",
   "metadata": {},
   "outputs": [
    {
     "data": {
      "text/plain": [
       "(72, 20)"
      ]
     },
     "execution_count": 3,
     "metadata": {},
     "output_type": "execute_result"
    }
   ],
   "source": [
    "true_test = [i for i in test_data if i[\"objective_met\"]==True]\n",
    "false_test = [i for i in test_data if i[\"objective_met\"]==False]\n",
    "len(true_test),len(false_test)"
   ]
  },
  {
   "cell_type": "code",
   "execution_count": 26,
   "id": "27d43b6a-ad69-401f-b24d-c1aa2c193308",
   "metadata": {
    "scrolled": true
   },
   "outputs": [
    {
     "name": "stderr",
     "output_type": "stream",
     "text": [
      "Processing:   1%|█▌                                                                                                            | 1/72 [00:06<07:21,  6.22s/iteration]"
     ]
    },
    {
     "name": "stdout",
     "output_type": "stream",
     "text": [
      "Parsed LLM response : True\n"
     ]
    },
    {
     "name": "stderr",
     "output_type": "stream",
     "text": [
      "Processing:   3%|███                                                                                                           | 2/72 [00:11<06:55,  5.94s/iteration]"
     ]
    },
    {
     "name": "stdout",
     "output_type": "stream",
     "text": [
      "Parsed LLM response : True\n"
     ]
    },
    {
     "name": "stderr",
     "output_type": "stream",
     "text": [
      "Processing:   4%|████▌                                                                                                         | 3/72 [00:15<05:30,  4.78s/iteration]"
     ]
    },
    {
     "name": "stdout",
     "output_type": "stream",
     "text": [
      "Parsed LLM response : True\n"
     ]
    },
    {
     "name": "stderr",
     "output_type": "stream",
     "text": [
      "Processing:   6%|██████                                                                                                        | 4/72 [00:20<05:22,  4.74s/iteration]"
     ]
    },
    {
     "name": "stdout",
     "output_type": "stream",
     "text": [
      "Parsed LLM response : True\n"
     ]
    },
    {
     "name": "stderr",
     "output_type": "stream",
     "text": [
      "Processing:   7%|███████▋                                                                                                      | 5/72 [00:23<04:54,  4.40s/iteration]"
     ]
    },
    {
     "name": "stdout",
     "output_type": "stream",
     "text": [
      "Parsed LLM response : True\n"
     ]
    },
    {
     "name": "stderr",
     "output_type": "stream",
     "text": [
      "Processing:   8%|█████████▏                                                                                                    | 6/72 [00:27<04:35,  4.17s/iteration]"
     ]
    },
    {
     "name": "stdout",
     "output_type": "stream",
     "text": [
      "Parsed LLM response : True\n"
     ]
    },
    {
     "name": "stderr",
     "output_type": "stream",
     "text": [
      "Processing:  10%|██████████▋                                                                                                   | 7/72 [00:32<04:41,  4.34s/iteration]"
     ]
    },
    {
     "name": "stdout",
     "output_type": "stream",
     "text": [
      "Parsed LLM response : True\n"
     ]
    },
    {
     "name": "stderr",
     "output_type": "stream",
     "text": [
      "Processing:  11%|████████████▏                                                                                                 | 8/72 [00:36<04:44,  4.45s/iteration]"
     ]
    },
    {
     "name": "stdout",
     "output_type": "stream",
     "text": [
      "Parsed LLM response : True\n"
     ]
    },
    {
     "name": "stderr",
     "output_type": "stream",
     "text": [
      "Processing:  12%|█████████████▊                                                                                                | 9/72 [00:40<04:24,  4.19s/iteration]"
     ]
    },
    {
     "name": "stdout",
     "output_type": "stream",
     "text": [
      "Parsed LLM response : True\n"
     ]
    },
    {
     "name": "stderr",
     "output_type": "stream",
     "text": [
      "Processing:  14%|███████████████▏                                                                                             | 10/72 [00:46<05:00,  4.84s/iteration]"
     ]
    },
    {
     "name": "stdout",
     "output_type": "stream",
     "text": [
      "Parsed LLM response : True\n"
     ]
    },
    {
     "name": "stderr",
     "output_type": "stream",
     "text": [
      "Processing:  15%|████████████████▋                                                                                            | 11/72 [00:50<04:33,  4.49s/iteration]"
     ]
    },
    {
     "name": "stdout",
     "output_type": "stream",
     "text": [
      "Parsed LLM response : True\n"
     ]
    },
    {
     "name": "stderr",
     "output_type": "stream",
     "text": [
      "Processing:  17%|██████████████████▏                                                                                          | 12/72 [00:54<04:21,  4.36s/iteration]"
     ]
    },
    {
     "name": "stdout",
     "output_type": "stream",
     "text": [
      "Parsed LLM response : True\n"
     ]
    },
    {
     "name": "stderr",
     "output_type": "stream",
     "text": [
      "Processing:  18%|███████████████████▋                                                                                         | 13/72 [01:01<05:10,  5.27s/iteration]"
     ]
    },
    {
     "name": "stdout",
     "output_type": "stream",
     "text": [
      "Parsed LLM response : True\n"
     ]
    },
    {
     "name": "stderr",
     "output_type": "stream",
     "text": [
      "Processing:  19%|█████████████████████▏                                                                                       | 14/72 [01:06<05:00,  5.17s/iteration]"
     ]
    },
    {
     "name": "stdout",
     "output_type": "stream",
     "text": [
      "Parsed LLM response : True\n"
     ]
    },
    {
     "name": "stderr",
     "output_type": "stream",
     "text": [
      "Processing:  21%|██████████████████████▋                                                                                      | 15/72 [01:10<04:33,  4.79s/iteration]"
     ]
    },
    {
     "name": "stdout",
     "output_type": "stream",
     "text": [
      "Parsed LLM response : True\n"
     ]
    },
    {
     "name": "stderr",
     "output_type": "stream",
     "text": [
      "Processing:  22%|████████████████████████▏                                                                                    | 16/72 [01:16<04:47,  5.13s/iteration]"
     ]
    },
    {
     "name": "stdout",
     "output_type": "stream",
     "text": [
      "Parsed LLM response : True\n"
     ]
    },
    {
     "name": "stderr",
     "output_type": "stream",
     "text": [
      "Processing:  24%|█████████████████████████▋                                                                                   | 17/72 [01:19<04:08,  4.52s/iteration]"
     ]
    },
    {
     "name": "stdout",
     "output_type": "stream",
     "text": [
      "Parsed LLM response : True\n"
     ]
    },
    {
     "name": "stderr",
     "output_type": "stream",
     "text": [
      "Processing:  25%|███████████████████████████▎                                                                                 | 18/72 [01:26<04:42,  5.22s/iteration]"
     ]
    },
    {
     "name": "stdout",
     "output_type": "stream",
     "text": [
      "Parsed LLM response : True\n"
     ]
    },
    {
     "name": "stderr",
     "output_type": "stream",
     "text": [
      "Processing:  26%|████████████████████████████▊                                                                                | 19/72 [01:30<04:17,  4.87s/iteration]"
     ]
    },
    {
     "name": "stdout",
     "output_type": "stream",
     "text": [
      "Parsed LLM response : True\n"
     ]
    },
    {
     "name": "stderr",
     "output_type": "stream",
     "text": [
      "Processing:  28%|██████████████████████████████▎                                                                              | 20/72 [01:34<03:52,  4.47s/iteration]"
     ]
    },
    {
     "name": "stdout",
     "output_type": "stream",
     "text": [
      "Parsed LLM response : True\n"
     ]
    },
    {
     "name": "stderr",
     "output_type": "stream",
     "text": [
      "Processing:  29%|███████████████████████████████▊                                                                             | 21/72 [01:37<03:31,  4.15s/iteration]"
     ]
    },
    {
     "name": "stdout",
     "output_type": "stream",
     "text": [
      "Parsed LLM response : True\n"
     ]
    },
    {
     "name": "stderr",
     "output_type": "stream",
     "text": [
      "Processing:  31%|█████████████████████████████████▎                                                                           | 22/72 [01:42<03:39,  4.40s/iteration]"
     ]
    },
    {
     "name": "stdout",
     "output_type": "stream",
     "text": [
      "Parsed LLM response : True\n"
     ]
    },
    {
     "name": "stderr",
     "output_type": "stream",
     "text": [
      "Processing:  32%|██████████████████████████████████▊                                                                          | 23/72 [01:46<03:24,  4.18s/iteration]"
     ]
    },
    {
     "name": "stdout",
     "output_type": "stream",
     "text": [
      "Parsed LLM response : True\n"
     ]
    },
    {
     "name": "stderr",
     "output_type": "stream",
     "text": [
      "Processing:  33%|████████████████████████████████████▎                                                                        | 24/72 [01:50<03:15,  4.08s/iteration]"
     ]
    },
    {
     "name": "stdout",
     "output_type": "stream",
     "text": [
      "Parsed LLM response : True\n"
     ]
    },
    {
     "name": "stderr",
     "output_type": "stream",
     "text": [
      "Processing:  35%|█████████████████████████████████████▊                                                                       | 25/72 [01:53<03:06,  3.98s/iteration]"
     ]
    },
    {
     "name": "stdout",
     "output_type": "stream",
     "text": [
      "Parsed LLM response : True\n"
     ]
    },
    {
     "name": "stderr",
     "output_type": "stream",
     "text": [
      "Processing:  36%|███████████████████████████████████████▎                                                                     | 26/72 [01:59<03:31,  4.59s/iteration]"
     ]
    },
    {
     "name": "stdout",
     "output_type": "stream",
     "text": [
      "Parsed LLM response : True\n"
     ]
    },
    {
     "name": "stderr",
     "output_type": "stream",
     "text": [
      "Processing:  38%|████████████████████████████████████████▉                                                                    | 27/72 [02:04<03:27,  4.62s/iteration]"
     ]
    },
    {
     "name": "stdout",
     "output_type": "stream",
     "text": [
      "Parsed LLM response : True\n"
     ]
    },
    {
     "name": "stderr",
     "output_type": "stream",
     "text": [
      "Processing:  39%|██████████████████████████████████████████▍                                                                  | 28/72 [02:08<03:14,  4.42s/iteration]"
     ]
    },
    {
     "name": "stdout",
     "output_type": "stream",
     "text": [
      "Parsed LLM response : True\n"
     ]
    },
    {
     "name": "stderr",
     "output_type": "stream",
     "text": [
      "Processing:  40%|███████████████████████████████████████████▉                                                                 | 29/72 [02:13<03:13,  4.49s/iteration]"
     ]
    },
    {
     "name": "stdout",
     "output_type": "stream",
     "text": [
      "Parsed LLM response : True\n"
     ]
    },
    {
     "name": "stderr",
     "output_type": "stream",
     "text": [
      "Processing:  42%|█████████████████████████████████████████████▍                                                               | 30/72 [02:16<02:53,  4.12s/iteration]"
     ]
    },
    {
     "name": "stdout",
     "output_type": "stream",
     "text": [
      "Parsed LLM response : True\n"
     ]
    },
    {
     "name": "stderr",
     "output_type": "stream",
     "text": [
      "Processing:  43%|██████████████████████████████████████████████▉                                                              | 31/72 [02:22<03:05,  4.53s/iteration]"
     ]
    },
    {
     "name": "stdout",
     "output_type": "stream",
     "text": [
      "Parsed LLM response : True\n"
     ]
    },
    {
     "name": "stderr",
     "output_type": "stream",
     "text": [
      "Processing:  44%|████████████████████████████████████████████████▍                                                            | 32/72 [02:26<02:59,  4.48s/iteration]"
     ]
    },
    {
     "name": "stdout",
     "output_type": "stream",
     "text": [
      "Parsed LLM response : True\n"
     ]
    },
    {
     "name": "stderr",
     "output_type": "stream",
     "text": [
      "Processing:  46%|█████████████████████████████████████████████████▉                                                           | 33/72 [02:29<02:40,  4.12s/iteration]"
     ]
    },
    {
     "name": "stdout",
     "output_type": "stream",
     "text": [
      "Parsed LLM response : True\n"
     ]
    },
    {
     "name": "stderr",
     "output_type": "stream",
     "text": [
      "Processing:  47%|███████████████████████████████████████████████████▍                                                         | 34/72 [02:35<02:58,  4.68s/iteration]"
     ]
    },
    {
     "name": "stdout",
     "output_type": "stream",
     "text": [
      "Parsed LLM response : True\n"
     ]
    },
    {
     "name": "stderr",
     "output_type": "stream",
     "text": [
      "Processing:  49%|████████████████████████████████████████████████████▉                                                        | 35/72 [02:40<02:58,  4.83s/iteration]"
     ]
    },
    {
     "name": "stdout",
     "output_type": "stream",
     "text": [
      "Parsed LLM response : True\n"
     ]
    },
    {
     "name": "stderr",
     "output_type": "stream",
     "text": [
      "Processing:  50%|██████████████████████████████████████████████████████▌                                                      | 36/72 [02:48<03:20,  5.56s/iteration]"
     ]
    },
    {
     "name": "stdout",
     "output_type": "stream",
     "text": [
      "Parsed LLM response : True\n"
     ]
    },
    {
     "name": "stderr",
     "output_type": "stream",
     "text": [
      "Processing:  51%|████████████████████████████████████████████████████████                                                     | 37/72 [02:53<03:12,  5.51s/iteration]"
     ]
    },
    {
     "name": "stdout",
     "output_type": "stream",
     "text": [
      "Parsed LLM response : True\n"
     ]
    },
    {
     "name": "stderr",
     "output_type": "stream",
     "text": [
      "Processing:  53%|█████████████████████████████████████████████████████████▌                                                   | 38/72 [02:57<02:51,  5.05s/iteration]"
     ]
    },
    {
     "name": "stdout",
     "output_type": "stream",
     "text": [
      "Parsed LLM response : True\n"
     ]
    },
    {
     "name": "stderr",
     "output_type": "stream",
     "text": [
      "Processing:  54%|███████████████████████████████████████████████████████████                                                  | 39/72 [03:02<02:43,  4.94s/iteration]"
     ]
    },
    {
     "name": "stdout",
     "output_type": "stream",
     "text": [
      "Parsed LLM response : True\n"
     ]
    },
    {
     "name": "stderr",
     "output_type": "stream",
     "text": [
      "Processing:  56%|████████████████████████████████████████████████████████████▌                                                | 40/72 [03:06<02:34,  4.84s/iteration]"
     ]
    },
    {
     "name": "stdout",
     "output_type": "stream",
     "text": [
      "Parsed LLM response : True\n"
     ]
    },
    {
     "name": "stderr",
     "output_type": "stream",
     "text": [
      "Processing:  57%|██████████████████████████████████████████████████████████████                                               | 41/72 [03:10<02:24,  4.65s/iteration]"
     ]
    },
    {
     "name": "stdout",
     "output_type": "stream",
     "text": [
      "Parsed LLM response : True\n"
     ]
    },
    {
     "name": "stderr",
     "output_type": "stream",
     "text": [
      "Processing:  58%|███████████████████████████████████████████████████████████████▌                                             | 42/72 [03:15<02:22,  4.76s/iteration]"
     ]
    },
    {
     "name": "stdout",
     "output_type": "stream",
     "text": [
      "Parsed LLM response : True\n"
     ]
    },
    {
     "name": "stderr",
     "output_type": "stream",
     "text": [
      "Processing:  60%|█████████████████████████████████████████████████████████████████                                            | 43/72 [03:22<02:33,  5.30s/iteration]"
     ]
    },
    {
     "name": "stdout",
     "output_type": "stream",
     "text": [
      "Parsed LLM response : True\n"
     ]
    },
    {
     "name": "stderr",
     "output_type": "stream",
     "text": [
      "Processing:  61%|██████████████████████████████████████████████████████████████████▌                                          | 44/72 [03:28<02:30,  5.37s/iteration]"
     ]
    },
    {
     "name": "stdout",
     "output_type": "stream",
     "text": [
      "Parsed LLM response : True\n"
     ]
    },
    {
     "name": "stderr",
     "output_type": "stream",
     "text": [
      "Processing:  62%|████████████████████████████████████████████████████████████████████▏                                        | 45/72 [03:35<02:37,  5.84s/iteration]"
     ]
    },
    {
     "name": "stdout",
     "output_type": "stream",
     "text": [
      "Parsed LLM response : True\n"
     ]
    },
    {
     "name": "stderr",
     "output_type": "stream",
     "text": [
      "Processing:  64%|█████████████████████████████████████████████████████████████████████▋                                       | 46/72 [03:40<02:30,  5.80s/iteration]"
     ]
    },
    {
     "name": "stdout",
     "output_type": "stream",
     "text": [
      "Parsed LLM response : True\n"
     ]
    },
    {
     "name": "stderr",
     "output_type": "stream",
     "text": [
      "Processing:  65%|███████████████████████████████████████████████████████████████████████▏                                     | 47/72 [03:47<02:33,  6.15s/iteration]"
     ]
    },
    {
     "name": "stdout",
     "output_type": "stream",
     "text": [
      "Parsed LLM response : True\n"
     ]
    },
    {
     "name": "stderr",
     "output_type": "stream",
     "text": [
      "Processing:  67%|████████████████████████████████████████████████████████████████████████▋                                    | 48/72 [03:53<02:28,  6.18s/iteration]"
     ]
    },
    {
     "name": "stdout",
     "output_type": "stream",
     "text": [
      "Parsed LLM response : True\n"
     ]
    },
    {
     "name": "stderr",
     "output_type": "stream",
     "text": [
      "Processing:  68%|██████████████████████████████████████████████████████████████████████████▏                                  | 49/72 [04:00<02:27,  6.42s/iteration]"
     ]
    },
    {
     "name": "stdout",
     "output_type": "stream",
     "text": [
      "Parsed LLM response : True\n"
     ]
    },
    {
     "name": "stderr",
     "output_type": "stream",
     "text": [
      "Processing:  69%|███████████████████████████████████████████████████████████████████████████▋                                 | 50/72 [04:04<02:05,  5.72s/iteration]"
     ]
    },
    {
     "name": "stdout",
     "output_type": "stream",
     "text": [
      "Parsed LLM response : True\n"
     ]
    },
    {
     "name": "stderr",
     "output_type": "stream",
     "text": [
      "Processing:  71%|█████████████████████████████████████████████████████████████████████████████▏                               | 51/72 [04:11<02:07,  6.05s/iteration]"
     ]
    },
    {
     "name": "stdout",
     "output_type": "stream",
     "text": [
      "Parsed LLM response : True\n"
     ]
    },
    {
     "name": "stderr",
     "output_type": "stream",
     "text": [
      "Processing:  72%|██████████████████████████████████████████████████████████████████████████████▋                              | 52/72 [04:17<01:59,  5.95s/iteration]"
     ]
    },
    {
     "name": "stdout",
     "output_type": "stream",
     "text": [
      "Parsed LLM response : True\n"
     ]
    },
    {
     "name": "stderr",
     "output_type": "stream",
     "text": [
      "Processing:  74%|████████████████████████████████████████████████████████████████████████████████▏                            | 53/72 [04:23<01:54,  6.03s/iteration]"
     ]
    },
    {
     "name": "stdout",
     "output_type": "stream",
     "text": [
      "Parsed LLM response : True\n"
     ]
    },
    {
     "name": "stderr",
     "output_type": "stream",
     "text": [
      "Processing:  75%|█████████████████████████████████████████████████████████████████████████████████▊                           | 54/72 [04:29<01:45,  5.87s/iteration]"
     ]
    },
    {
     "name": "stdout",
     "output_type": "stream",
     "text": [
      "Parsed LLM response : True\n"
     ]
    },
    {
     "name": "stderr",
     "output_type": "stream",
     "text": [
      "Processing:  76%|███████████████████████████████████████████████████████████████████████████████████▎                         | 55/72 [04:33<01:30,  5.33s/iteration]"
     ]
    },
    {
     "name": "stdout",
     "output_type": "stream",
     "text": [
      "Parsed LLM response : True\n"
     ]
    },
    {
     "name": "stderr",
     "output_type": "stream",
     "text": [
      "Processing:  78%|████████████████████████████████████████████████████████████████████████████████████▊                        | 56/72 [04:38<01:23,  5.19s/iteration]"
     ]
    },
    {
     "name": "stdout",
     "output_type": "stream",
     "text": [
      "Parsed LLM response : True\n"
     ]
    },
    {
     "name": "stderr",
     "output_type": "stream",
     "text": [
      "Processing:  79%|██████████████████████████████████████████████████████████████████████████████████████▎                      | 57/72 [04:43<01:16,  5.13s/iteration]"
     ]
    },
    {
     "name": "stdout",
     "output_type": "stream",
     "text": [
      "Parsed LLM response : True\n"
     ]
    },
    {
     "name": "stderr",
     "output_type": "stream",
     "text": [
      "Processing:  81%|███████████████████████████████████████████████████████████████████████████████████████▊                     | 58/72 [04:49<01:17,  5.50s/iteration]"
     ]
    },
    {
     "name": "stdout",
     "output_type": "stream",
     "text": [
      "Parsed LLM response : True\n"
     ]
    },
    {
     "name": "stderr",
     "output_type": "stream",
     "text": [
      "Processing:  82%|█████████████████████████████████████████████████████████████████████████████████████████▎                   | 59/72 [04:53<01:06,  5.13s/iteration]"
     ]
    },
    {
     "name": "stdout",
     "output_type": "stream",
     "text": [
      "Parsed LLM response : True\n"
     ]
    },
    {
     "name": "stderr",
     "output_type": "stream",
     "text": [
      "Processing:  83%|██████████████████████████████████████████████████████████████████████████████████████████▊                  | 60/72 [04:59<01:02,  5.22s/iteration]"
     ]
    },
    {
     "name": "stdout",
     "output_type": "stream",
     "text": [
      "Parsed LLM response : True\n"
     ]
    },
    {
     "name": "stderr",
     "output_type": "stream",
     "text": [
      "Processing:  85%|████████████████████████████████████████████████████████████████████████████████████████████▎                | 61/72 [05:04<00:59,  5.37s/iteration]"
     ]
    },
    {
     "name": "stdout",
     "output_type": "stream",
     "text": [
      "Parsed LLM response : True\n"
     ]
    },
    {
     "name": "stderr",
     "output_type": "stream",
     "text": [
      "Processing:  86%|█████████████████████████████████████████████████████████████████████████████████████████████▊               | 62/72 [05:09<00:51,  5.16s/iteration]"
     ]
    },
    {
     "name": "stdout",
     "output_type": "stream",
     "text": [
      "Parsed LLM response : True\n"
     ]
    },
    {
     "name": "stderr",
     "output_type": "stream",
     "text": [
      "Processing:  88%|███████████████████████████████████████████████████████████████████████████████████████████████▍             | 63/72 [05:16<00:51,  5.71s/iteration]"
     ]
    },
    {
     "name": "stdout",
     "output_type": "stream",
     "text": [
      "Parsed LLM response : True\n"
     ]
    },
    {
     "name": "stderr",
     "output_type": "stream",
     "text": [
      "Processing:  89%|████████████████████████████████████████████████████████████████████████████████████████████████▉            | 64/72 [05:21<00:43,  5.43s/iteration]"
     ]
    },
    {
     "name": "stdout",
     "output_type": "stream",
     "text": [
      "Parsed LLM response : True\n"
     ]
    },
    {
     "name": "stderr",
     "output_type": "stream",
     "text": [
      "Processing:  90%|██████████████████████████████████████████████████████████████████████████████████████████████████▍          | 65/72 [05:25<00:36,  5.18s/iteration]"
     ]
    },
    {
     "name": "stdout",
     "output_type": "stream",
     "text": [
      "Parsed LLM response : True\n"
     ]
    },
    {
     "name": "stderr",
     "output_type": "stream",
     "text": [
      "Processing:  92%|███████████████████████████████████████████████████████████████████████████████████████████████████▉         | 66/72 [05:30<00:29,  4.87s/iteration]"
     ]
    },
    {
     "name": "stdout",
     "output_type": "stream",
     "text": [
      "Parsed LLM response : True\n"
     ]
    },
    {
     "name": "stderr",
     "output_type": "stream",
     "text": [
      "Processing:  93%|█████████████████████████████████████████████████████████████████████████████████████████████████████▍       | 67/72 [05:34<00:23,  4.76s/iteration]"
     ]
    },
    {
     "name": "stdout",
     "output_type": "stream",
     "text": [
      "Parsed LLM response : True\n"
     ]
    },
    {
     "name": "stderr",
     "output_type": "stream",
     "text": [
      "Processing:  94%|██████████████████████████████████████████████████████████████████████████████████████████████████████▉      | 68/72 [05:41<00:21,  5.37s/iteration]"
     ]
    },
    {
     "name": "stdout",
     "output_type": "stream",
     "text": [
      "Parsed LLM response : True\n"
     ]
    },
    {
     "name": "stderr",
     "output_type": "stream",
     "text": [
      "Processing:  96%|████████████████████████████████████████████████████████████████████████████████████████████████████████▍    | 69/72 [05:45<00:15,  5.01s/iteration]"
     ]
    },
    {
     "name": "stdout",
     "output_type": "stream",
     "text": [
      "Parsed LLM response : True\n"
     ]
    },
    {
     "name": "stderr",
     "output_type": "stream",
     "text": [
      "Processing:  97%|█████████████████████████████████████████████████████████████████████████████████████████████████████████▉   | 70/72 [05:49<00:09,  4.71s/iteration]"
     ]
    },
    {
     "name": "stdout",
     "output_type": "stream",
     "text": [
      "Parsed LLM response : True\n"
     ]
    },
    {
     "name": "stderr",
     "output_type": "stream",
     "text": [
      "Processing:  99%|███████████████████████████████████████████████████████████████████████████████████████████████████████████▍ | 71/72 [05:55<00:05,  5.09s/iteration]"
     ]
    },
    {
     "name": "stdout",
     "output_type": "stream",
     "text": [
      "Parsed LLM response : True\n"
     ]
    },
    {
     "name": "stderr",
     "output_type": "stream",
     "text": [
      "Processing: 100%|█████████████████████████████████████████████████████████████████████████████████████████████████████████████| 72/72 [06:00<00:00,  5.01s/iteration]"
     ]
    },
    {
     "name": "stdout",
     "output_type": "stream",
     "text": [
      "Parsed LLM response : True\n"
     ]
    },
    {
     "name": "stderr",
     "output_type": "stream",
     "text": [
      "\n"
     ]
    }
   ],
   "source": [
    "from tqdm import tqdm\n",
    "\n",
    "true_test_res_old = []\n",
    "for i in tqdm(true_test, desc=\"Processing\", unit=\"iteration\"):\n",
    "    try : \n",
    "        i[\"goal_rating\"]=float(objective_met_agent_old(i[\"conversation\"],i[\"main_question\"],i[\"objective\"]))\n",
    "        true_test_res_old.append(i)\n",
    "    except:\n",
    "        print(\"Response failed for {}\".format(i))\n",
    "        # break"
   ]
  },
  {
   "cell_type": "code",
   "execution_count": 27,
   "id": "f919586d-188a-49ae-9ac5-70fd08c5394b",
   "metadata": {
    "scrolled": true
   },
   "outputs": [
    {
     "name": "stderr",
     "output_type": "stream",
     "text": [
      "Processing:   5%|█████▌                                                                                                        | 1/20 [00:05<01:43,  5.44s/iteration]"
     ]
    },
    {
     "name": "stdout",
     "output_type": "stream",
     "text": [
      "Parsed LLM response : True\n"
     ]
    },
    {
     "name": "stderr",
     "output_type": "stream",
     "text": [
      "Processing:  10%|███████████                                                                                                   | 2/20 [00:11<01:45,  5.86s/iteration]"
     ]
    },
    {
     "name": "stdout",
     "output_type": "stream",
     "text": [
      "Parsed LLM response : True\n"
     ]
    },
    {
     "name": "stderr",
     "output_type": "stream",
     "text": [
      "Processing:  15%|████████████████▌                                                                                             | 3/20 [00:16<01:31,  5.37s/iteration]"
     ]
    },
    {
     "name": "stdout",
     "output_type": "stream",
     "text": [
      "Parsed LLM response : True\n"
     ]
    },
    {
     "name": "stderr",
     "output_type": "stream",
     "text": [
      "Processing:  20%|██████████████████████                                                                                        | 4/20 [00:24<01:42,  6.41s/iteration]"
     ]
    },
    {
     "name": "stdout",
     "output_type": "stream",
     "text": [
      "Parsed LLM response : True\n"
     ]
    },
    {
     "name": "stderr",
     "output_type": "stream",
     "text": [
      "Processing:  25%|███████████████████████████▌                                                                                  | 5/20 [00:30<01:36,  6.42s/iteration]"
     ]
    },
    {
     "name": "stdout",
     "output_type": "stream",
     "text": [
      "Parsed LLM response : False. The user's answer \"I don't know\" does not meet the objective of the question \"Do you think the cost of public transportation is fair?\". The user has not provided an opinion on the fairness of the cost of public transportation.\n"
     ]
    },
    {
     "name": "stderr",
     "output_type": "stream",
     "text": [
      "Processing:  30%|█████████████████████████████████                                                                             | 6/20 [00:35<01:22,  5.86s/iteration]"
     ]
    },
    {
     "name": "stdout",
     "output_type": "stream",
     "text": [
      "Parsed LLM response : True\n"
     ]
    },
    {
     "name": "stderr",
     "output_type": "stream",
     "text": [
      "Processing:  35%|██████████████████████████████████████▌                                                                       | 7/20 [00:40<01:14,  5.70s/iteration]"
     ]
    },
    {
     "name": "stdout",
     "output_type": "stream",
     "text": [
      "Parsed LLM response : True\n"
     ]
    },
    {
     "name": "stderr",
     "output_type": "stream",
     "text": [
      "Processing:  40%|████████████████████████████████████████████                                                                  | 8/20 [00:45<01:04,  5.41s/iteration]"
     ]
    },
    {
     "name": "stdout",
     "output_type": "stream",
     "text": [
      "Parsed LLM response : True\n"
     ]
    },
    {
     "name": "stderr",
     "output_type": "stream",
     "text": [
      "Processing:  45%|█████████████████████████████████████████████████▌                                                            | 9/20 [00:51<01:02,  5.64s/iteration]"
     ]
    },
    {
     "name": "stdout",
     "output_type": "stream",
     "text": [
      "Parsed LLM response : True\n"
     ]
    },
    {
     "name": "stderr",
     "output_type": "stream",
     "text": [
      "Processing:  50%|██████████████████████████████████████████████████████▌                                                      | 10/20 [00:56<00:53,  5.35s/iteration]"
     ]
    },
    {
     "name": "stdout",
     "output_type": "stream",
     "text": [
      "Parsed LLM response : True\n"
     ]
    },
    {
     "name": "stderr",
     "output_type": "stream",
     "text": [
      "Processing:  55%|███████████████████████████████████████████████████████████▉                                                 | 11/20 [01:00<00:44,  4.94s/iteration]"
     ]
    },
    {
     "name": "stdout",
     "output_type": "stream",
     "text": [
      "Parsed LLM response : True\n"
     ]
    },
    {
     "name": "stderr",
     "output_type": "stream",
     "text": [
      "Processing:  60%|█████████████████████████████████████████████████████████████████▍                                           | 12/20 [01:04<00:37,  4.68s/iteration]"
     ]
    },
    {
     "name": "stdout",
     "output_type": "stream",
     "text": [
      "Parsed LLM response : True\n"
     ]
    },
    {
     "name": "stderr",
     "output_type": "stream",
     "text": [
      "Processing:  65%|██████████████████████████████████████████████████████████████████████▊                                      | 13/20 [01:11<00:36,  5.19s/iteration]"
     ]
    },
    {
     "name": "stdout",
     "output_type": "stream",
     "text": [
      "Parsed LLM response : True\n"
     ]
    },
    {
     "name": "stderr",
     "output_type": "stream",
     "text": [
      "Processing:  70%|████████████████████████████████████████████████████████████████████████████▎                                | 14/20 [01:18<00:35,  5.92s/iteration]"
     ]
    },
    {
     "name": "stdout",
     "output_type": "stream",
     "text": [
      "Parsed LLM response : True\n"
     ]
    },
    {
     "name": "stderr",
     "output_type": "stream",
     "text": [
      "Processing:  75%|█████████████████████████████████████████████████████████████████████████████████▊                           | 15/20 [01:22<00:26,  5.36s/iteration]"
     ]
    },
    {
     "name": "stdout",
     "output_type": "stream",
     "text": [
      "Parsed LLM response : True\n"
     ]
    },
    {
     "name": "stderr",
     "output_type": "stream",
     "text": [
      "Processing:  80%|███████████████████████████████████████████████████████████████████████████████████████▏                     | 16/20 [01:31<00:25,  6.34s/iteration]"
     ]
    },
    {
     "name": "stdout",
     "output_type": "stream",
     "text": [
      "Parsed LLM response : True\n"
     ]
    },
    {
     "name": "stderr",
     "output_type": "stream",
     "text": [
      "Processing:  85%|████████████████████████████████████████████████████████████████████████████████████████████▋                | 17/20 [01:36<00:17,  5.95s/iteration]"
     ]
    },
    {
     "name": "stdout",
     "output_type": "stream",
     "text": [
      "Parsed LLM response : True\n"
     ]
    },
    {
     "name": "stderr",
     "output_type": "stream",
     "text": [
      "Processing:  90%|██████████████████████████████████████████████████████████████████████████████████████████████████           | 18/20 [01:44<00:13,  6.73s/iteration]"
     ]
    },
    {
     "name": "stdout",
     "output_type": "stream",
     "text": [
      "Parsed LLM response : True\n"
     ]
    },
    {
     "name": "stderr",
     "output_type": "stream",
     "text": [
      "Processing:  95%|███████████████████████████████████████████████████████████████████████████████████████████████████████▌     | 19/20 [01:51<00:06,  6.74s/iteration]"
     ]
    },
    {
     "name": "stdout",
     "output_type": "stream",
     "text": [
      "Parsed LLM response : True\n"
     ]
    },
    {
     "name": "stderr",
     "output_type": "stream",
     "text": [
      "Processing: 100%|█████████████████████████████████████████████████████████████████████████████████████████████████████████████| 20/20 [01:57<00:00,  5.87s/iteration]"
     ]
    },
    {
     "name": "stdout",
     "output_type": "stream",
     "text": [
      "Parsed LLM response : True\n"
     ]
    },
    {
     "name": "stderr",
     "output_type": "stream",
     "text": [
      "\n"
     ]
    }
   ],
   "source": [
    "false_test_res_old = []\n",
    "for i in tqdm(false_test, desc=\"Processing\", unit=\"iteration\"):\n",
    "    try : \n",
    "        i[\"goal_rating\"]=float(objective_met_agent_old(i[\"conversation\"],i[\"main_question\"],i[\"objective\"]))\n",
    "        false_test_res_old.append(i)\n",
    "    except:\n",
    "        print(\"Response failed for {}\".format(i))\n",
    "        # break"
   ]
  },
  {
   "cell_type": "code",
   "execution_count": 8,
   "id": "956d5f81-e735-45d7-8af5-422fb5b9965e",
   "metadata": {
    "scrolled": true
   },
   "outputs": [
    {
     "data": {
      "text/plain": [
       "[{'conversation': \"Interviewer: I'm sorry to hear that. How far do you have to travel to get to a hospital?\\nInterviewee: I have to travel a long distance to get to a hospital.\\n\",\n",
       "  'main_question': 'How far do you have to travel to get to a hospital?',\n",
       "  'objective': 'To know the distance the person has to travel.',\n",
       "  'user_characteristics': {'Name': 'Amit',\n",
       "   'Age': 35,\n",
       "   'Gender': 'Male',\n",
       "   'Income': 'Low',\n",
       "   'Education': 'Primary',\n",
       "   'Location': 'Uttar Pradesh'},\n",
       "  'objective_met': False,\n",
       "  'goal_rating': 0.8},\n",
       " {'conversation': \"Interviewer: I'm sorry to hear that. How far do you have to travel to get to a hospital?\\nInterviewee: I have to travel a long distance to get to a hospital.\\n\",\n",
       "  'main_question': 'How far do you have to travel to get to a hospital?',\n",
       "  'objective': 'Was the user answer specific?',\n",
       "  'user_characteristics': {'Name': 'Amit',\n",
       "   'Age': 35,\n",
       "   'Gender': 'Male',\n",
       "   'Income': 'Low',\n",
       "   'Education': 'Primary',\n",
       "   'Location': 'Uttar Pradesh'},\n",
       "  'objective_met': False,\n",
       "  'goal_rating': 0.5},\n",
       " {'conversation': 'Interviewer: Thank you for letting me know. Do you have to pay for healthcare?\\nInterviewee: Yes, I have to pay for healthcare.\\n',\n",
       "  'main_question': 'Do you have to pay for healthcare?',\n",
       "  'objective': 'To know how much the person has to pay for healthcare.',\n",
       "  'user_characteristics': {'Name': 'Amit',\n",
       "   'Age': 35,\n",
       "   'Gender': 'Male',\n",
       "   'Income': 'Low',\n",
       "   'Education': 'Primary',\n",
       "   'Location': 'Uttar Pradesh'},\n",
       "  'objective_met': False,\n",
       "  'goal_rating': 1.0},\n",
       " {'conversation': \"Interviewer: Thank you for letting me know. Do you think the cost of public transportation is fair?\\nInterviewee: I don't know.\\n\",\n",
       "  'main_question': 'Do you think the cost of public transportation is fair?',\n",
       "  'objective': \"To know the person's opinion on the cost of public transportation.\",\n",
       "  'user_characteristics': {'Name': 'Anjali',\n",
       "   'Age': 35,\n",
       "   'Gender': 'Female',\n",
       "   'Income': 'Low',\n",
       "   'Education': 'Secondary',\n",
       "   'Location': 'Madhya Pradesh'},\n",
       "  'objective_met': False,\n",
       "  'goal_rating': 1.0},\n",
       " {'conversation': \"Interviewer: Thank you for letting me know. Do you think the cost of public transportation is fair?\\nInterviewee: I don't know.\\n\",\n",
       "  'main_question': 'Do you think the cost of public transportation is fair?',\n",
       "  'objective': 'Did the user answer the question directly?',\n",
       "  'user_characteristics': {'Name': 'Anjali',\n",
       "   'Age': 35,\n",
       "   'Gender': 'Female',\n",
       "   'Income': 'Low',\n",
       "   'Education': 'Secondary',\n",
       "   'Location': 'Madhya Pradesh'},\n",
       "  'objective_met': False,\n",
       "  'goal_rating': 1.0},\n",
       " {'conversation': \"Interviewer: Thank you for your response. Is there anything else you would like to share about the lack of access to public transportation in your area?\\nInterviewee: Yes, it's difficult for me to get to the market to sell my produce without public transportation. I have to rely on others for rides or walk long distances.\\n\",\n",
       "  'main_question': 'Anything else you would like to share about the lack of access to public transportation in your area?',\n",
       "  'objective': 'Did the user answer contain atleast 2 examples from personal experience?',\n",
       "  'user_characteristics': {'Name': 'Anjali',\n",
       "   'Age': 35,\n",
       "   'Gender': 'Female',\n",
       "   'Income': 'Low',\n",
       "   'Education': 'Secondary',\n",
       "   'Location': 'Madhya Pradesh'},\n",
       "  'objective_met': False,\n",
       "  'goal_rating': 0.8},\n",
       " {'conversation': \"Interviewer: I'm sorry to hear that. Can you tell me how far you have to travel to get to the nearest toilet?\\nInterviewee: I have to travel about 2 kilometers to get to the nearest toilet.\\n\",\n",
       "  'main_question': 'How far do you have to travel to get to the nearest toilet?',\n",
       "  'objective': 'To understand how the distance the person has to travel to access toilet causes difficulties.',\n",
       "  'user_characteristics': {'Name': 'Rajendra',\n",
       "   'Age': 50,\n",
       "   'Gender': 'Male',\n",
       "   'Income': 'Low',\n",
       "   'Education': 'Primary',\n",
       "   'Location': 'Rajasthan'},\n",
       "  'objective_met': False,\n",
       "  'goal_rating': 0.9},\n",
       " {'conversation': \"Interviewer: I'm sorry to hear that. Can you tell me how far you have to travel to get to the nearest toilet?\\nInterviewee: I have to travel about 2 kilometers to get to the nearest toilet.\\nInterviewer: That's quite a distance. Do you face any difficulties in traveling that far?\\nInterviewee: Yes, it's especially difficult for me during the monsoon season when the roads are muddy and slippery.\\n\",\n",
       "  'main_question': 'How far do you have to travel to get to the nearest toilet?',\n",
       "  'objective': 'To understand how the distance the person has to travel to access toilet and toilet hygeine causes difficulties.',\n",
       "  'user_characteristics': {'Name': 'Rajendra',\n",
       "   'Age': 50,\n",
       "   'Gender': 'Male',\n",
       "   'Income': 'Low',\n",
       "   'Education': 'Primary',\n",
       "   'Location': 'Rajasthan'},\n",
       "  'objective_met': False,\n",
       "  'goal_rating': 1.0},\n",
       " {'conversation': \"Interviewer: I see. How far do you have to travel to get to the nearest bank?\\nInterviewee: It's quite far, I have to travel long distance to get to the nearest bank.\\n\",\n",
       "  'main_question': 'How far do you have to travel to get to the nearest bank?',\n",
       "  'objective': 'To know the distance the person has to travel.',\n",
       "  'user_characteristics': {'Name': 'Sarita',\n",
       "   'Age': 30,\n",
       "   'Gender': 'Female',\n",
       "   'Income': 'Low',\n",
       "   'Education': 'Secondary',\n",
       "   'Location': 'Bihar'},\n",
       "  'objective_met': False,\n",
       "  'goal_rating': 0.8},\n",
       " {'conversation': \"Interviewer: I see. How far do you have to travel to get to the nearest bank?\\nInterviewee: It's quite far, I have to travel long distnace to get to the nearest bank.\\n\",\n",
       "  'main_question': 'How far do you have to travel to get to the nearest bank?',\n",
       "  'objective': 'Was the user answer specific?',\n",
       "  'user_characteristics': {'Name': 'Sarita',\n",
       "   'Age': 30,\n",
       "   'Gender': 'Female',\n",
       "   'Income': 'Low',\n",
       "   'Education': 'Secondary',\n",
       "   'Location': 'Bihar'},\n",
       "  'objective_met': False,\n",
       "  'goal_rating': 0.2},\n",
       " {'conversation': \"Interviewer: Thank you for letting me know. Do you think the fees charged by banks are fair?\\nInterviewee: I don't think they are fair. They charge a lot of money for basic services.\\n\",\n",
       "  'main_question': 'Do you think the fees charged by banks are fair?',\n",
       "  'objective': \"To know the person's opinion on bank fees and why they have that opionion.\",\n",
       "  'user_characteristics': {'Name': 'Sarita',\n",
       "   'Age': 30,\n",
       "   'Gender': 'Female',\n",
       "   'Income': 'Low',\n",
       "   'Education': 'Secondary',\n",
       "   'Location': 'Bihar'},\n",
       "  'objective_met': False,\n",
       "  'goal_rating': 0.8},\n",
       " {'conversation': \"Interviewer: That's quite a distance. Do you think the cost of internet access is fair?\\nInterviewee: I don't think the cost of internet access is fair. It's too expensive for me.\\n\",\n",
       "  'main_question': 'Do you have access to the internet?',\n",
       "  'objective': 'To know if the person has access to the internet or not.',\n",
       "  'user_characteristics': {'Name': 'Rajesh',\n",
       "   'Age': 35,\n",
       "   'Gender': 'Male',\n",
       "   'Income': 'Low',\n",
       "   'Education': 'Primary',\n",
       "   'Location': 'Uttar Pradesh'},\n",
       "  'objective_met': False,\n",
       "  'goal_rating': 0.8},\n",
       " {'conversation': \"Interviewer: Thank you for sharing that information. Do you think the cost of housing is fair?\\nInterviewee: No, I don't think the cost of housing is fair. It's too expensive for people like me.\\n\",\n",
       "  'main_question': 'Do you think the cost of housing is fair?',\n",
       "  'objective': \"To know the person's opinion on the cost of housing.\",\n",
       "  'user_characteristics': {'Name': 'Amit',\n",
       "   'Age': 35,\n",
       "   'Gender': 'Male',\n",
       "   'Income': 'Low',\n",
       "   'Education': 'Primary',\n",
       "   'Location': 'Delhi'},\n",
       "  'objective_met': False,\n",
       "  'goal_rating': 0.8},\n",
       " {'conversation': \"Interviewer: That's great to hear. Can you tell me how far you have to travel to get to the nearest park?\\nInterviewee: I have to travel around 30 minutes to get to the nearest park.\\n\",\n",
       "  'main_question': 'How far do you have to travel to get to the nearest park?',\n",
       "  'objective': 'To know the distance the person has to travel.',\n",
       "  'user_characteristics': {'Name': 'Kavita',\n",
       "   'Age': 35,\n",
       "   'Gender': 'Female',\n",
       "   'Income': 'Low',\n",
       "   'Education': 'Secondary',\n",
       "   'Location': 'Mumbai'},\n",
       "  'objective_met': False,\n",
       "  'goal_rating': 0.9},\n",
       " {'conversation': \"Interviewer: That's great to hear. Can you tell me how far you have to travel to get to the nearest park?\\nInterviewee: I have to travel around 30 minutes to get to the nearest park.\\n\",\n",
       "  'main_question': 'How far do you have to travel to get to the nearest park?',\n",
       "  'objective': 'Was the user answer specific?',\n",
       "  'user_characteristics': {'Name': 'Kavita',\n",
       "   'Age': 35,\n",
       "   'Gender': 'Female',\n",
       "   'Income': 'Low',\n",
       "   'Education': 'Secondary',\n",
       "   'Location': 'Mumbai'},\n",
       "  'objective_met': False,\n",
       "  'goal_rating': 0.8},\n",
       " {'conversation': \"Interviewer: Thank you for sharing that with me. Do you think the lack of access to public parks and green spaces affects your daily life?\\nInterviewee: Yes, it does affect my daily life. I have to travel a long distance to get to a park and when I do, it's not in a good condition.\\n\",\n",
       "  'main_question': 'Do you have access to public parks and green spaces?',\n",
       "  'objective': 'To know if the person has access to public parks and green spaces or not.',\n",
       "  'user_characteristics': {'Name': 'Kavita',\n",
       "   'Age': 35,\n",
       "   'Gender': 'Female',\n",
       "   'Income': 'Low',\n",
       "   'Education': 'Secondary',\n",
       "   'Location': 'Mumbai'},\n",
       "  'objective_met': False,\n",
       "  'goal_rating': 0.6},\n",
       " {'conversation': 'Interviewer: I understand. Can you tell me how having access to public parks and green spaces would benefit you and your community?\\nInterviewee: Having access to public parks and green spaces would provide a safe and healthy environment for children to play and for families to spend time together. It would also improve the overall aesthetic of the community.\\n',\n",
       "  'main_question': 'Do you have access to public parks and green spaces?',\n",
       "  'objective': 'To know if the person has access to public parks and green spaces or not.',\n",
       "  'user_characteristics': {'Name': 'Kavita',\n",
       "   'Age': 35,\n",
       "   'Gender': 'Female',\n",
       "   'Income': 'Low',\n",
       "   'Education': 'Secondary',\n",
       "   'Location': 'Mumbai'},\n",
       "  'objective_met': False,\n",
       "  'goal_rating': 1.0},\n",
       " {'conversation': \"Interviewer: Thank you for sharing that information. Do you think the cost of healthcare is fair?\\nInterviewee: No, I don't think the cost of healthcare is fair. It's too expensive for people like me.\\nInterviewer: Thank you for sharing your opinion with me. Is there anything else you would like to add about the lack of access to affordable healthcare?\\nInterviewee: Yes, sometimes I have to go to unqualified doctors because I can't afford to go to a proper hospital.\\nInterviewer: I see. Can you tell me more about your experiences with unqualified doctors?\\nInterviewee: They don't always give me the right medicine and sometimes I end up getting sicker.\\n\",\n",
       "  'main_question': 'Do you think the cost of healthcare is fair?',\n",
       "  'objective': \"To know the person's opinion on the cost of healthcare.\",\n",
       "  'user_characteristics': {'Name': 'Sarita',\n",
       "   'Age': 30,\n",
       "   'Gender': 'Female',\n",
       "   'Income': 'Low',\n",
       "   'Education': 'Secondary',\n",
       "   'Location': 'Delhi'},\n",
       "  'objective_met': False,\n",
       "  'goal_rating': 0.6},\n",
       " {'conversation': \"Interviewer: I understand. Do you think the government is doing enough to improve air quality?\\nInterviewee: No, I don't think so. They need to take more action to reduce pollution and improve air quality.\\n\",\n",
       "  'main_question': 'Do you think the government is doing enough to improve air quality?',\n",
       "  'objective': \"To know the person's opinion on government action.\",\n",
       "  'user_characteristics': {'Name': 'Anjali',\n",
       "   'Age': 35,\n",
       "   'Gender': 'Female',\n",
       "   'Income': 'Low',\n",
       "   'Education': 'Secondary',\n",
       "   'Location': 'Kolkata'},\n",
       "  'objective_met': False,\n",
       "  'goal_rating': 0.8},\n",
       " {'conversation': \"Interviewer: I understand. Do you think the government is doing enough to improve air quality?\\nInterviewee: No, I don't think so. They need to take more action to reduce pollution and improve air quality.\\n\",\n",
       "  'main_question': 'Do you think the government is doing enough to improve air quality?',\n",
       "  'objective': 'Did the user answer the question directly?',\n",
       "  'user_characteristics': {'Name': 'Anjali',\n",
       "   'Age': 35,\n",
       "   'Gender': 'Female',\n",
       "   'Income': 'Low',\n",
       "   'Education': 'Secondary',\n",
       "   'Location': 'Kolkata'},\n",
       "  'objective_met': False,\n",
       "  'goal_rating': 0.8}]"
      ]
     },
     "execution_count": 8,
     "metadata": {},
     "output_type": "execute_result"
    }
   ],
   "source": [
    "false_test_res"
   ]
  },
  {
   "cell_type": "code",
   "execution_count": 28,
   "id": "1431b762-7b3b-435a-bd73-548c4e3d20f7",
   "metadata": {},
   "outputs": [],
   "source": [
    "with open(\"om_manual_inferred_true_old.json\", \"w+\") as f:\n",
    "    json.dump(true_test_res_old, f, indent=4)\n",
    "\n",
    "with open(\"om_manual_inferred_false_old.json\", \"w+\") as f:\n",
    "    json.dump(false_test_res_old, f, indent=4)"
   ]
  },
  {
   "cell_type": "code",
   "execution_count": 42,
   "id": "3f972cfe-44ed-44f5-bf2f-cccb1af97346",
   "metadata": {},
   "outputs": [
    {
     "data": {
      "text/plain": [
       "(1.0, 0.05)"
      ]
     },
     "execution_count": 42,
     "metadata": {},
     "output_type": "execute_result"
    }
   ],
   "source": [
    "# thresh=range(0.0,1.0,0.1)\n",
    "\n",
    "sum([i[\"goal_rating\"] and i[\"objective_met\"] for i in true_test_res_old])/len(true_test_res_old),\\\n",
    "sum([not i[\"goal_rating\"] and not i[\"objective_met\"] for i in false_test_res_old])/len(false_test_res_old)"
   ]
  },
  {
   "cell_type": "code",
   "execution_count": 38,
   "id": "9734696f-062a-4588-a218-08f5f8b7454c",
   "metadata": {},
   "outputs": [
    {
     "data": {
      "image/png": "[encoded data removed]",
      "text/plain": [
       "<Figure size 640x480 with 1 Axes>"
      ]
     },
     "metadata": {},
     "output_type": "display_data"
    }
   ],
   "source": [
    "\n",
    "import matplotlib.pyplot as plt\n",
    "\n",
    "# Given threshold range\n",
    "thresh_range = [i/10.0 for i in range(11)]\n",
    "\n",
    "# Calculating the ratios\n",
    "true_positive_ratios = []\n",
    "false_positive_ratios = []\n",
    "\n",
    "for thresh in thresh_range:\n",
    "    true_positive_ratio = sum(i[\"goal_rating\"] and i[\"objective_met\"] for i in true_test_res_old) / len(true_test_res_old)\n",
    "    false_positive_ratio = sum(i[\"goal_rating\"] and not i[\"objective_met\"] for i in false_test_res_old) / len(false_test_res_old)\n",
    "    true_positive_ratios.append(true_positive_ratio)\n",
    "    false_positive_ratios.append(false_positive_ratio)\n",
    "\n",
    "# Plotting\n",
    "plt.plot(thresh_range, true_positive_ratios, label=\"True goal achieved accuracy\")\n",
    "plt.plot(thresh_range, false_positive_ratios, label=\"False goal achieved accuracy\")\n",
    "plt.xlabel(\"Threshold\")\n",
    "plt.ylabel(\"Accuracy\")\n",
    "plt.title(\"Old True and false goal achieved accuracy\")\n",
    "plt.legend()\n",
    "plt.show()\n"
   ]
  },
  {
   "cell_type": "code",
   "execution_count": 36,
   "id": "c2ab397d-2ac1-4b8c-99a1-80068e434ce5",
   "metadata": {},
   "outputs": [],
   "source": [
    "import json\n",
    "\n",
    "# Read true_test_res_old from JSON\n",
    "with open(\"om_manual_inferred_true.json\", \"r\") as f:\n",
    "    true_test_res = json.load(f)\n",
    "\n",
    "# Read false_test_res_old from JSON\n",
    "with open(\"om_manual_inferred_false.json\", \"r\") as f:\n",
    "    false_test_res = json.load(f)\n"
   ]
  },
  {
   "cell_type": "code",
   "execution_count": 37,
   "id": "f9984af8-cf80-4453-9810-d96fed885b94",
   "metadata": {},
   "outputs": [
    {
     "data": {
      "image/png": "[encoded data removed]",
      "text/plain": [
       "<Figure size 640x480 with 1 Axes>"
      ]
     },
     "metadata": {},
     "output_type": "display_data"
    }
   ],
   "source": [
    "\n",
    "import matplotlib.pyplot as plt\n",
    "\n",
    "# Given threshold range\n",
    "thresh_range = [i/10.0 for i in range(11)]\n",
    "\n",
    "# Calculating the ratios\n",
    "true_positive_ratios = []\n",
    "false_positive_ratios = []\n",
    "\n",
    "for thresh in thresh_range:\n",
    "    true_positive_ratio = sum(i[\"goal_rating\"] > thresh and i[\"objective_met\"] for i in true_test_res) / len(true_test_res)\n",
    "    false_positive_ratio = sum(i[\"goal_rating\"] <= thresh and not i[\"objective_met\"] for i in false_test_res) / len(false_test_res)\n",
    "    true_positive_ratios.append(true_positive_ratio)\n",
    "    false_positive_ratios.append(false_positive_ratio)\n",
    "\n",
    "# Plotting\n",
    "plt.plot(thresh_range, true_positive_ratios, label=\"True goal achieved accuracy\")\n",
    "plt.plot(thresh_range, false_positive_ratios, label=\"False goal achieved accuracy\")\n",
    "plt.xlabel(\"Threshold\")\n",
    "plt.ylabel(\"Accuracy\")\n",
    "plt.title(\"True and false goal achieved accuracy\")\n",
    "plt.legend()\n",
    "plt.show()\n"
   ]
  },
  {
   "cell_type": "markdown",
   "id": "3aba61c2-68cb-4e10-968e-9f3deacf2c31",
   "metadata": {},
   "source": [
    "## Testing"
   ]
  },
  {
   "cell_type": "code",
   "execution_count": null,
   "id": "d12d166b-1028-45ea-9a1f-1ddbf7abef15",
   "metadata": {},
   "outputs": [],
   "source": [
    "objective_met_agent(\"Interviewer: Hello Ravi, thank you for taking the time to speak with me today. \\\n",
    "Can you tell me if there are any schools in your village?\\n\\nRavi: Yes, there is a school nearby.\\\n",
    "\\n\\nInterviewer: That's great to hear. Can you tell me if you face any challenges in attending school?\\\n",
    "\\n\\nRavi: Well, sometimes I have to help my father on the farm, so I can't always go to school.\\\n",
    "\\n\\nInterviewer: I understand. nInterviewer: I see. \\\n",
    "Can you tell me what kind of education you aspire to receive?\\n\\n\\\n",
    "Ravi: I want to learn how to read and write so I can help my family and become a teacher one day.\",\\\n",
    "\"What kind of education do you aspire to receive?\",\\\n",
    "\"To understand the aspirations of the individual and how it aligns with the current education system.\")"
   ]
  },
  {
   "cell_type": "code",
   "execution_count": 40,
   "id": "bbf6ffd9-a0ea-4af2-bca4-bdfe05200125",
   "metadata": {},
   "outputs": [
    {
     "name": "stdout",
     "output_type": "stream",
     "text": [
      "Parsed LLM response : 0.8\n"
     ]
    },
    {
     "data": {
      "text/plain": [
       "'0.8'"
      ]
     },
     "execution_count": 40,
     "metadata": {},
     "output_type": "execute_result"
    }
   ],
   "source": [
    "objective_met_agent(\"Interviewer: Hello Ravi, thank you for taking the time to speak with me today. \\\n",
    "Can you tell me if there are any schools in your village?\\n\\nRavi: Yes, there is a school nearby.\\\n",
    "\\n\\nInterviewer: That's great to hear. Can you tell me if you face any challenges in attending school?\\\n",
    "\\n\\nRavi: Well, sometimes I have to help my father on the farm, so I can't always go to school.\\\n",
    "\\n\\nInterviewer: I understand. nInterviewer: I see. \\\n",
    "Can you tell me what kind of education you aspire to receive?\\n\\n\\\n",
    "Ravi: I want to learn how to read and write so I can help my family and become a teacher one day.\",\\\n",
    "\"What kind of education do you aspire to receive?\",\\\n",
    "\"To understand the aspirations of the individual and how it aligns with the current education system.\")"
   ]
  },
  {
   "cell_type": "code",
   "execution_count": 41,
   "id": "1ec32be9-15ef-4cf6-8dde-94db0e90707d",
   "metadata": {},
   "outputs": [
    {
     "name": "stdout",
     "output_type": "stream",
     "text": [
      "Parsed LLM response : 0.2\n"
     ]
    },
    {
     "data": {
      "text/plain": [
       "'0.2'"
      ]
     },
     "execution_count": 41,
     "metadata": {},
     "output_type": "execute_result"
    }
   ],
   "source": [
    "objective_met_agent(\"Interviewer: Hello Ravi, thank you for taking the time to speak with me today. \\\n",
    "Can you tell me if there are any schools in your village?\\n\\nRavi: Yes, there is a school nearby.\\\n",
    "\\n\\nInterviewer: That's great to hear. Can you tell me if you face any challenges in attending school?\\\n",
    "\\n\\nRavi: Well, sometimes I have to help my father on the farm, so I can't always go to school.\\\n",
    "\\n\\nInterviewer: I understand. nInterviewer: I see. \\\n",
    "Can you tell me what kind of education you aspire to receive?\\n\\n\\\n",
    "Ravi: I do not understand\",\\\n",
    "\"What kind of education do you aspire to receive?\",\\\n",
    "\"To understand the aspirations of the individual and how it aligns with the current education system.\")"
   ]
  },
  {
   "cell_type": "code",
   "execution_count": 32,
   "id": "b7b1a315-b781-4477-a602-ec1be1ab2795",
   "metadata": {},
   "outputs": [
    {
     "name": "stdout",
     "output_type": "stream",
     "text": [
      "Error: 500, {\"detail\":\"CUDA out of memory. Tried to allocate 286.00 MiB. GPU 0 has a total capacity of 15.57 GiB of which 185.38 MiB is free. Including non-PyTorch memory, this process has 15.39 GiB memory in use. Of the allocated memory 14.20 GiB is allocated by PyTorch, and 1.06 GiB is reserved by PyTorch but unallocated. If reserved but unallocated memory is large try setting PYTORCH_CUDA_ALLOC_CONF=expandable_segments:True to avoid fragmentation.  See documentation for Memory Management  (https://pytorch.org/docs/stable/notes/cuda.html#environment-variables)\"}\n"
     ]
    },
    {
     "ename": "TypeError",
     "evalue": "expected string or bytes-like object",
     "output_type": "error",
     "traceback": [
      "\u001b[0;31m---------------------------------------------------------------------------\u001b[0m",
      "\u001b[0;31mTypeError\u001b[0m                                 Traceback (most recent call last)",
      "Cell \u001b[0;32mIn[32], line 1\u001b[0m\n\u001b[0;32m----> 1\u001b[0m \u001b[43mobjective_met_agent\u001b[49m\u001b[43m(\u001b[49m\u001b[38;5;124;43m\"\u001b[39;49m\u001b[38;5;124;43mInterviewer: Hello Ravi, thank you for taking the time to speak with me today. \u001b[39;49m\u001b[38;5;130;43;01m\\\u001b[39;49;00m\n\u001b[1;32m      2\u001b[0m \u001b[38;5;124;43mCan you tell me if there are any schools in your village?\u001b[39;49m\u001b[38;5;130;43;01m\\n\u001b[39;49;00m\u001b[38;5;130;43;01m\\n\u001b[39;49;00m\u001b[38;5;124;43mRavi: Yes, there is a school nearby.\u001b[39;49m\u001b[38;5;130;43;01m\\\u001b[39;49;00m\n\u001b[1;32m      3\u001b[0m \u001b[38;5;130;43;01m\\n\u001b[39;49;00m\u001b[38;5;130;43;01m\\n\u001b[39;49;00m\u001b[38;5;124;43mInterviewer: That\u001b[39;49m\u001b[38;5;124;43m'\u001b[39;49m\u001b[38;5;124;43ms great to hear. Can you tell me if you face any challenges in attending school?\u001b[39;49m\u001b[38;5;130;43;01m\\\u001b[39;49;00m\n\u001b[1;32m      4\u001b[0m \u001b[38;5;130;43;01m\\n\u001b[39;49;00m\u001b[38;5;130;43;01m\\n\u001b[39;49;00m\u001b[38;5;124;43mRavi: Well, sometimes I have to help my father on the farm, so I can\u001b[39;49m\u001b[38;5;124;43m'\u001b[39;49m\u001b[38;5;124;43mt always go to school.\u001b[39;49m\u001b[38;5;130;43;01m\\\u001b[39;49;00m\n\u001b[1;32m      5\u001b[0m \u001b[38;5;130;43;01m\\n\u001b[39;49;00m\u001b[38;5;130;43;01m\\n\u001b[39;49;00m\u001b[38;5;124;43mInterviewer: I understand. nInterviewer: I see. \u001b[39;49m\u001b[38;5;130;43;01m\\\u001b[39;49;00m\n\u001b[1;32m      6\u001b[0m \u001b[38;5;124;43mCan you tell me what kind of education you aspire to receive?\u001b[39;49m\u001b[38;5;130;43;01m\\n\u001b[39;49;00m\u001b[38;5;130;43;01m\\n\u001b[39;49;00m\u001b[38;5;130;43;01m\\\u001b[39;49;00m\n\u001b[1;32m      7\u001b[0m \u001b[38;5;124;43mRavi: I want good education\u001b[39;49m\u001b[38;5;124;43m\"\u001b[39;49m\u001b[43m,\u001b[49m\u001b[43m\\\u001b[49m\n\u001b[1;32m      8\u001b[0m \u001b[38;5;124;43m\"\u001b[39;49m\u001b[38;5;124;43mWhat kind of education do you aspire to receive?\u001b[39;49m\u001b[38;5;124;43m\"\u001b[39;49m\u001b[43m,\u001b[49m\u001b[43m\\\u001b[49m\n\u001b[1;32m      9\u001b[0m \u001b[38;5;124;43m\"\u001b[39;49m\u001b[38;5;124;43mTo understand the aspirations of the individual and how it aligns with the current education system.\u001b[39;49m\u001b[38;5;124;43m\"\u001b[39;49m\u001b[43m)\u001b[49m\n",
      "Cell \u001b[0;32mIn[26], line 50\u001b[0m, in \u001b[0;36mobjective_met_agent\u001b[0;34m(chat_history, main_question, objectives_left)\u001b[0m\n\u001b[1;32m     47\u001b[0m response \u001b[38;5;241m=\u001b[39m generate_response(prompt)\n\u001b[1;32m     49\u001b[0m \u001b[38;5;66;03m# Use regular expressions to parse llm output\u001b[39;00m\n\u001b[0;32m---> 50\u001b[0m end_of_turn_tags \u001b[38;5;241m=\u001b[39m \u001b[43mre\u001b[49m\u001b[38;5;241;43m.\u001b[39;49m\u001b[43mfindall\u001b[49m\u001b[43m(\u001b[49m\u001b[38;5;124;43mr\u001b[39;49m\u001b[38;5;124;43m'\u001b[39;49m\u001b[38;5;124;43m<start_of_turn>model(.*?)<eos>\u001b[39;49m\u001b[38;5;124;43m'\u001b[39;49m\u001b[43m,\u001b[49m\u001b[43m \u001b[49m\u001b[43mresponse\u001b[49m\u001b[43m,\u001b[49m\u001b[43m \u001b[49m\u001b[43mre\u001b[49m\u001b[38;5;241;43m.\u001b[39;49m\u001b[43mDOTALL\u001b[49m\u001b[43m)\u001b[49m\n\u001b[1;32m     51\u001b[0m parsed_response \u001b[38;5;241m=\u001b[39m end_of_turn_tags[\u001b[38;5;241m0\u001b[39m]\u001b[38;5;241m.\u001b[39mstrip()\u001b[38;5;241m.\u001b[39msplit(\u001b[38;5;124m'\u001b[39m\u001b[38;5;130;01m\\n\u001b[39;00m\u001b[38;5;124m'\u001b[39m)[\u001b[38;5;241m0\u001b[39m]\n\u001b[1;32m     53\u001b[0m \u001b[38;5;28mprint\u001b[39m(\u001b[38;5;124m\"\u001b[39m\u001b[38;5;124mParsed LLM response :\u001b[39m\u001b[38;5;124m\"\u001b[39m, parsed_response)\n",
      "File \u001b[0;32m/usr/lib/python3.10/re.py:240\u001b[0m, in \u001b[0;36mfindall\u001b[0;34m(pattern, string, flags)\u001b[0m\n\u001b[1;32m    232\u001b[0m \u001b[38;5;28;01mdef\u001b[39;00m \u001b[38;5;21mfindall\u001b[39m(pattern, string, flags\u001b[38;5;241m=\u001b[39m\u001b[38;5;241m0\u001b[39m):\n\u001b[1;32m    233\u001b[0m \u001b[38;5;250m    \u001b[39m\u001b[38;5;124;03m\"\"\"Return a list of all non-overlapping matches in the string.\u001b[39;00m\n\u001b[1;32m    234\u001b[0m \n\u001b[1;32m    235\u001b[0m \u001b[38;5;124;03m    If one or more capturing groups are present in the pattern, return\u001b[39;00m\n\u001b[0;32m   (...)\u001b[0m\n\u001b[1;32m    238\u001b[0m \n\u001b[1;32m    239\u001b[0m \u001b[38;5;124;03m    Empty matches are included in the result.\"\"\"\u001b[39;00m\n\u001b[0;32m--> 240\u001b[0m     \u001b[38;5;28;01mreturn\u001b[39;00m \u001b[43m_compile\u001b[49m\u001b[43m(\u001b[49m\u001b[43mpattern\u001b[49m\u001b[43m,\u001b[49m\u001b[43m \u001b[49m\u001b[43mflags\u001b[49m\u001b[43m)\u001b[49m\u001b[38;5;241;43m.\u001b[39;49m\u001b[43mfindall\u001b[49m\u001b[43m(\u001b[49m\u001b[43mstring\u001b[49m\u001b[43m)\u001b[49m\n",
      "\u001b[0;31mTypeError\u001b[0m: expected string or bytes-like object"
     ]
    }
   ],
   "source": [
    "objective_met_agent(\"Interviewer: Hello Ravi, thank you for taking the time to speak with me today. \\\n",
    "Can you tell me if there are any schools in your village?\\n\\nRavi: Yes, there is a school nearby.\\\n",
    "\\n\\nInterviewer: That's great to hear. Can you tell me if you face any challenges in attending school?\\\n",
    "\\n\\nRavi: Well, sometimes I have to help my father on the farm, so I can't always go to school.\\\n",
    "\\n\\nInterviewer: I understand. nInterviewer: I see. \\\n",
    "Can you tell me what kind of education you aspire to receive?\\n\\n\\\n",
    "Ravi: I want good education\",\\\n",
    "\"What kind of education do you aspire to receive?\",\\\n",
    "\"To understand the aspirations of the individual and how it aligns with the current education system.\")"
   ]
  },
  {
   "cell_type": "code",
   "execution_count": 16,
   "id": "6c08eca3-ab16-48ab-ab9b-b1bf7317ba53",
   "metadata": {
    "scrolled": true
   },
   "outputs": [
    {
     "data": {
      "text/plain": [
       "[{'Problem': 'Lack of access to education in rural areas of India.',\n",
       "  'Indian': \"Ravi, 12 years old, male, farmer's son, Uttar Pradesh, illiterate\",\n",
       "  'Questions and Motivations': ['Question: Are there any schools in your village?',\n",
       "   'Motivation: To know if there are any educational facilities available in the village.',\n",
       "   'Question: Do you face any challenges in attending school?',\n",
       "   'Motivation: To understand the barriers to education in rural areas.',\n",
       "   'Question: What kind of education do you aspire to receive?',\n",
       "   'Motivation: To understand the aspirations of the individual and how it aligns with the current education system.'],\n",
       "  'Conversation': \"Interviewer: Hello Ravi, thank you for taking the time to speak with me today. Can you tell me if there are any schools in your village?\\n\\nRavi: Yes, there is a school nearby.\\n\\nInterviewer: That's great to hear. Can you tell me if you face any challenges in attending school?\\n\\nRavi: Well, sometimes I have to help my father on the farm, so I can't always go to school.\\n\\nInterviewer: I understand. Can you tell me more about the challenges you face in attending school?\\n\\nRavi: Sometimes the school is far away and I have to walk a long distance to get there.\\n\\nInterviewer: I see. Can you tell me what kind of education you aspire to receive?\\n\\nRavi: I want to learn how to read and write so I can help my family and become a teacher one day.\\n\\nInterviewer: That's a great aspiration, Ravi. Thank you for sharing your thoughts with me today.\"},\n",
       " {'Problem': 'Lack of access to clean drinking water in India.',\n",
       "  'Indian': 'Kamla, 35 years old, female, daily wage worker, Madhya Pradesh, water-borne diseases',\n",
       "  'Questions and Motivations': ['Question: Do you have access to clean drinking water?',\n",
       "   'Motivation: To understand the extent of the problem.',\n",
       "   'Question: How do you currently obtain drinking water?',\n",
       "   'Motivation: To understand the sources of water and the quality of water obtained.',\n",
       "   'Question: Have you or anyone in your family suffered from water-borne diseases?',\n",
       "   'Motivation: To understand the impact of the problem on the individual and their family.'],\n",
       "  'Conversation': \"Interviewer: Hello Kamla, thank you for taking the time to speak with me today. I would like to ask you a few questions about your access to clean drinking water. \\n\\nKamla: Yes, please go ahead.\\n\\nInterviewer: Do you have access to clean drinking water?\\n\\nKamla: Yes, we have a well nearby where we get our water from.\\n\\nInterviewer: That's great to hear. How do you currently obtain drinking water?\\n\\nKamla: Well, we have to walk a few kilometers to get to the well and then carry the water back home.\\n\\nInterviewer: I see. And how is the quality of the water that you obtain from the well?\\n\\nKamla: It's not very clean, but we don't have any other options.\\n\\nInterviewer: I understand. Have you or anyone in your family suffered from water-borne diseases?\\n\\nKamla: Yes, my daughter had diarrhea a few months ago.\\n\\nInterviewer: I'm sorry to hear that. Can you tell me more about how it affected your daughter and your family?\\n\\nKamla: She was very sick and we had to spend a lot of money on medicine. It was a difficult time for us.\\n\\nInterviewer: Thank you for sharing that with me, Kamla. That helps me understand the impact of the problem on individuals and their families. Thank you for your time today. \\n\\nKamla: Thank you for speaking with me.\"},\n",
       " {'Problem': 'Lack of access to basic healthcare facilities in India.',\n",
       "  'Indian': 'Suresh, 45 years old, male, daily wage worker, Bihar, untreated injuries',\n",
       "  'Questions and Motivations': ['Question: Have you ever faced any health issues?',\n",
       "   'Motivation: To understand the extent of the problem.',\n",
       "   'Question: Are there any healthcare facilities in your village?',\n",
       "   'Motivation: To understand the availability of healthcare facilities in the area.',\n",
       "   'Question: Have you ever faced any challenges in accessing healthcare facilities?',\n",
       "   'Motivation: To understand the barriers to accessing healthcare facilities.'],\n",
       "  'Conversation': \"Interviewer: Hello Suresh, thank you for taking the time to talk to me today. Can you tell me, have you ever faced any health issues?\\n\\nSuresh: Yes, I have had some injuries in the past.\\n\\nInterviewer: I see. Can you tell me more about those injuries?\\n\\nSuresh: Well, I hurt my leg while working in the fields a few months ago.\\n\\nInterviewer: I'm sorry to hear that. Have you been able to get any medical treatment for your injuries?\\n\\nSuresh: No, I haven't been able to afford it.\\n\\nInterviewer: I understand. Can you tell me, are there any healthcare facilities in your village?\\n\\nSuresh: Yes, there is a small clinic, but it's not very well-equipped.\\n\\nInterviewer: I see. Have you ever faced any challenges in accessing healthcare facilities?\\n\\nSuresh: Yes, sometimes it's difficult to get to the clinic because it's far away and I don't have a vehicle.\\n\\nInterviewer: I understand. Can you tell me more about the challenges you face in accessing healthcare facilities?\\n\\nSuresh: Well, sometimes I have to walk a long distance to get to the clinic, and it's difficult for me because of my injuries.\\n\\nInterviewer: I see. Thank you for sharing that with me, Suresh. That helps me understand the barriers to accessing healthcare facilities in your area. Thank you for taking the time to talk to me today.\"},\n",
       " {'Problem': 'Child marriage in India.',\n",
       "  'Indian': 'Priya, 16 years old, female, school dropout, Rajasthan, married at 14',\n",
       "  'Questions and Motivations': ['Question: When did you get married?',\n",
       "   'Motivation: To understand the extent of the problem.',\n",
       "   'Question: Did you have a choice in the matter?',\n",
       "   'Motivation: To understand the agency of the individual in the decision.',\n",
       "   'Question: What are your aspirations for the future?',\n",
       "   \"Motivation: To understand the impact of child marriage on the individual's future.\"],\n",
       "  'Conversation': \"Interviewer: Hi Priya, thank you for taking the time to talk to me today. Can you tell me when did you get married?\\n\\nPriya: I got married when I was 14 years old.\\n\\nInterviewer: Thank you for sharing that with me. Can you tell me if you had a choice in the matter?\\n\\nPriya: No, my parents arranged the marriage and I had to go along with it.\\n\\nInterviewer: I see. Can you tell me what are your aspirations for the future?\\n\\nPriya: I don't really know. I just want to be a good wife and take care of my husband.\\n\\nInterviewer: I understand. But do you have any dreams or goals for yourself, like maybe continuing your education or pursuing a career?\\n\\nPriya: Well, I did want to finish school and become a teacher, but that's not possible now.\\n\\nInterviewer: I'm sorry to hear that. Thank you for sharing your thoughts with me, Priya. I appreciate your time and wish you all the best for the future.\"},\n",
       " {'Problem': 'Gender-based violence in India.',\n",
       "  'Indian': 'Anjali, 28 years old, female, homemaker, Maharashtra, domestic violence survivor',\n",
       "  'Questions and Motivations': ['Question: Have you ever faced any form of gender-based violence?',\n",
       "   'Motivation: To understand the extent of the problem.',\n",
       "   'Question: Did you seek help when you faced violence?',\n",
       "   'Motivation: To understand the support systems available to survivors.',\n",
       "   'Question: What measures do you think can be taken to prevent gender-based violence?',\n",
       "   \"Motivation: To understand the individual's perspective on solutions to the problem.\"],\n",
       "  'Conversation': \"Interviewer: Hi Anjali, thank you for taking the time to speak with me today. I would like to start by asking you a question. Have you ever faced any form of gender-based violence?\\n\\nAnjali: Yes, I have.\\n\\nInterviewer: I'm sorry to hear that. Can you tell me more about your experience?\\n\\nAnjali: My husband used to beat me regularly. He would get angry over small things and hit me.\\n\\nInterviewer: That sounds terrible. Did you seek help when you faced violence?\\n\\nAnjali: No, I didn't. I was scared and didn't know who to turn to.\\n\\nInterviewer: I understand. It can be difficult to know where to go for help. What measures do you think can be taken to prevent gender-based violence?\\n\\nAnjali: I think there should be more awareness campaigns to educate people about the issue. Also, the police should take complaints seriously and provide protection to survivors.\\n\\nInterviewer: Those are good suggestions. Thank you for sharing your thoughts with me. Is there anything else you would like to add?\\n\\nAnjali: No, that's all. Thank you for listening to me.\\n\\nInterviewer: Thank you for sharing your experience and thoughts with me, Anjali. I appreciate your time.\"},\n",
       " {'Problem': 'Lack of access to electricity in rural areas of India.',\n",
       "  'Indian': 'Rajesh, 30 years old, male, farmer, Odisha, no access to electricity',\n",
       "  'Questions and Motivations': ['Question: Do you have access to electricity?',\n",
       "   'Motivation: To understand the extent of the problem.',\n",
       "   'Question: How do you currently manage without electricity?',\n",
       "   \"Motivation: To understand the impact of the problem on the individual's daily life.\",\n",
       "   'Question: What measures do you think can be taken to improve access to electricity?',\n",
       "   \"Motivation: To understand the individual's perspective on solutions to the problem.\"],\n",
       "  'Conversation': \"Interviewer: Hello Rajesh, thank you for taking the time to speak with me today. Do you have access to electricity?\\n\\nRajesh: No, we don't have electricity in our village.\\n\\nInterviewer: Thank you for letting me know. Can you tell me how you currently manage without electricity?\\n\\nRajesh: We use kerosene lamps and candles for light. We also have to manually pump water from the well.\\n\\nInterviewer: I see. That must be difficult. What impact does the lack of electricity have on your daily life?\\n\\nRajesh: It's hard to do any work after sunset. We can't use any electrical appliances like fans or refrigerators. It's also difficult to charge our phones.\\n\\nInterviewer: I understand. What measures do you think can be taken to improve access to electricity in your village?\\n\\nRajesh: I think the government should install more power lines and transformers in our area. They should also provide subsidies for solar panels and other renewable energy sources.\\n\\nInterviewer: Thank you for sharing your thoughts on this. Is there anything else you would like to add?\\n\\nRajesh: No, that's all. Thank you for speaking with me.\\n\\nInterviewer: Thank you for your time and insights, Rajesh. Have a good day.\"},\n",
       " {'Problem': 'Lack of access to sanitation facilities in India.',\n",
       "  'Indian': 'Meena, 40 years old, female, daily wage worker, Uttar Pradesh, open defecation',\n",
       "  'Questions and Motivations': ['Question: Do you have access to sanitation facilities?',\n",
       "   'Motivation: To understand the extent of the problem.',\n",
       "   'Question: How do you currently manage without sanitation facilities?',\n",
       "   \"Motivation: To understand the impact of the problem on the individual's daily life.\",\n",
       "   'Question: What measures do you think can be taken to improve access to sanitation facilities?',\n",
       "   \"Motivation: To understand the individual's perspective on solutions to the problem.\"],\n",
       "  'Conversation': \"Interviewer: Hello Meena, thank you for taking the time to speak with me today. Can you tell me, do you have access to sanitation facilities?\\n\\nMeena: Oh, hello. No, I don't have access to any toilets or bathrooms nearby.\\n\\nInterviewer: I see. To understand the extent of the problem, can you tell me more about your situation? How do you currently manage without sanitation facilities?\\n\\nMeena: Well, I usually have to go out in the fields or find a secluded spot to relieve myself. It's not easy, especially during the monsoon season.\\n\\nInterviewer: I understand. That must be very difficult. To understand the impact of the problem on your daily life, can you tell me more about how this affects you?\\n\\nMeena: It's very inconvenient and embarrassing. Sometimes I have to wait until it's dark to go out, which can be dangerous. And during my period, it's even worse.\\n\\nInterviewer: I can imagine. To understand your perspective on solutions to the problem, what measures do you think can be taken to improve access to sanitation facilities?\\n\\nMeena: I think the government should build more toilets and bathrooms in our area. It would make life so much easier for us.\\n\\nInterviewer: Thank you for sharing your thoughts with me, Meena. I appreciate your time and willingness to speak with me today.\"},\n",
       " {'Problem': 'Lack of access to affordable housing in India.',\n",
       "  'Indian': 'Amit, 25 years old, male, construction worker, Delhi, homeless',\n",
       "  'Questions and Motivations': ['Question: Do you have access to affordable housing?',\n",
       "   'Motivation: To understand the extent of the problem.',\n",
       "   'Question: How do you currently manage without housing?',\n",
       "   \"Motivation: To understand the impact of the problem on the individual's daily life.\",\n",
       "   'Question: What measures do you think can be taken to improve access to affordable housing?',\n",
       "   \"Motivation: To understand the individual's perspective on solutions to the problem.\"],\n",
       "  'Conversation': \"Interviewer: Hi Amit, thank you for taking the time to talk to me today. Can you tell me, do you have access to affordable housing?\\n\\nAmit: No, I don't have a house.\\n\\nInterviewer: I understand that you don't have a house, but do you have access to affordable housing?\\n\\nAmit: No, I don't have any money to rent a house.\\n\\nInterviewer: I see. So, you are currently homeless, is that correct?\\n\\nAmit: Yes, I sleep on the streets.\\n\\nInterviewer: Thank you for sharing that with me. Can you tell me how you currently manage without housing?\\n\\nAmit: I try to find a safe place to sleep at night, but it's not always easy. Sometimes I sleep in a park or on the street.\\n\\nInterviewer: I understand that it must be difficult for you. Can you tell me what measures you think can be taken to improve access to affordable housing?\\n\\nAmit: I think the government should build more affordable housing for people like me. They should also provide financial assistance to help people pay for rent.\\n\\nInterviewer: Thank you for sharing your thoughts on this. Is there anything else you would like to add about the lack of access to affordable housing in India?\\n\\nAmit: I just hope that something can be done to help people like me who are struggling to find a place to live.\\n\\nInterviewer: Thank you for your time and for sharing your perspective with me, Amit. I appreciate it.\"},\n",
       " {'Problem': 'Lack of access to credit in India.',\n",
       "  'Indian': 'Sunita, 35 years old, female, small business owner, Tamil Nadu, unable to expand business',\n",
       "  'Questions and Motivations': ['Question: Have you ever faced any challenges in accessing credit?',\n",
       "   'Motivation: To understand the extent of the problem.',\n",
       "   'Question: What are the reasons for the lack of access to credit?',\n",
       "   'Motivation: To understand the barriers to accessing credit.',\n",
       "   'Question: What measures do you think can be taken to improve access to credit?',\n",
       "   \"Motivation: To understand the individual's perspective on solutions to the problem.\"],\n",
       "  'Conversation': \"Interviewer: Hello Sunita, thank you for taking the time to speak with me today. Can you tell me if you have ever faced any challenges in accessing credit?\\n\\nSunita: Yes, I have faced some challenges in getting credit for my business.\\n\\nInterviewer: Thank you for sharing that. Can you tell me more about the reasons for the lack of access to credit that you have experienced?\\n\\nSunita: Well, I think it's because I don't have a lot of collateral to offer the bank. They always ask for something like property or gold, which I don't have.\\n\\nInterviewer: I see. So, the lack of collateral is a barrier for you in accessing credit. What other barriers have you faced in getting credit?\\n\\nSunita: Sometimes the paperwork is too complicated and I don't understand it. And other times, the interest rates are too high.\\n\\nInterviewer: Thank you for sharing those barriers. What measures do you think can be taken to improve access to credit for small business owners like yourself?\\n\\nSunita: I think the government could provide more support for small businesses, like offering loans with lower interest rates. And maybe the banks could be more flexible with their collateral requirements.\\n\\nInterviewer: Those are some great suggestions. Thank you for sharing your perspective on solutions to the problem. Is there anything else you would like to add about your experience with accessing credit?\\n\\nSunita: No, I think that covers it. Thank you for asking these questions.\\n\\nInterviewer: Thank you for your time and insights, Sunita. It was great speaking with you today.\"},\n",
       " {'Problem': 'Lack of access to public transportation in India.',\n",
       "  'Indian': 'Rajiv, 40 years old, male, daily wage worker, Karnataka, unable to commute to work',\n",
       "  'Questions and Motivations': ['Question: Do you have access to public transportation?',\n",
       "   'Motivation: To understand the extent of the problem.',\n",
       "   'Question: How do you currently commute to work?',\n",
       "   \"Motivation: To understand the impact of the problem on the individual's daily life.\",\n",
       "   'Question: What measures do you think can be taken to improve access to public transportation?',\n",
       "   \"Motivation: To understand the individual's perspective on solutions to the problem.\"],\n",
       "  'Conversation': \"Interviewer: Hello Rajiv, thank you for taking the time to speak with me today. Do you have access to public transportation?\\n\\nRajiv: No, I don't have access to any public transportation.\\n\\nInterviewer: I see. Can you tell me how you currently commute to work?\\n\\nRajiv: I usually walk to work, but sometimes I have to borrow a bike from a friend.\\n\\nInterviewer: I understand. That must be difficult for you. What measures do you think can be taken to improve access to public transportation?\\n\\nRajiv: I think the government should provide more buses and trains in our area.\\n\\nInterviewer: That's a good point. Can you tell me more about why you think that would help?\\n\\nRajiv: Well, if there were more buses and trains, it would be easier for people like me to get to work. We wouldn't have to walk so far or borrow bikes from friends.\\n\\nInterviewer: I see. Thank you for sharing your perspective with me, Rajiv. That's all the questions I have for you today.\"},\n",
       " {'Problem': 'Lack of access to information in rural areas of India.',\n",
       "  'Indian': \"Sarita, 30 years old, female, farmer's wife, Jharkhand, unaware of government schemes\",\n",
       "  'Questions and Motivations': ['Question: Are you aware of any government schemes that can benefit you?',\n",
       "   'Motivation: To understand the extent of the problem.',\n",
       "   'Question: What are the reasons for the lack of access to information?',\n",
       "   'Motivation: To understand the barriers to accessing information.',\n",
       "   'Question: What measures do you think can be taken to improve access to information?',\n",
       "   \"Motivation: To understand the individual's perspective on solutions to the problem.\"],\n",
       "  'Conversation': \"Interviewer: Namaste Sarita, thank you for taking the time to speak with me today. I would like to ask you a few questions about your access to information. Is that okay with you?\\n\\nSarita: Yes, sure.\\n\\nInterviewer: Great. So, are you aware of any government schemes that can benefit you?\\n\\nSarita: No, I don't know about any schemes.\\n\\nInterviewer: Okay, can you tell me more about why you think you are not aware of any government schemes?\\n\\nSarita: I don't know. Maybe because we live in a rural area and don't have access to information.\\n\\nInterviewer: That's a good point. What do you think are the reasons for the lack of access to information in rural areas like yours?\\n\\nSarita: I think it's because we don't have access to technology like the internet or smartphones.\\n\\nInterviewer: Yes, that's definitely a barrier. What measures do you think can be taken to improve access to information in rural areas like yours?\\n\\nSarita: Maybe the government can provide more information through pamphlets or posters in the local language. They can also organize more awareness camps in our villages.\\n\\nInterviewer: Those are great suggestions. Thank you for sharing your thoughts with me, Sarita. Is there anything else you would like to add?\\n\\nSarita: No, that's all. Thank you for talking to me.\\n\\nInterviewer: Thank you for your time and insights, Sarita. Have a good day.\"},\n",
       " {'Problem': 'Lack of access to job opportunities in India.',\n",
       "  'Indian': 'Rajni, 22 years old, female, graduate, Uttar Pradesh, unemployed',\n",
       "  'Questions and Motivations': ['Question: Are you currently employed?',\n",
       "   'Motivation: To understand the extent of the problem.',\n",
       "   'Question: What are the reasons for the lack of job opportunities?',\n",
       "   'Motivation: To understand the barriers to accessing job opportunities.',\n",
       "   'Question: What measures do you think can be taken to improve access to job opportunities?',\n",
       "   \"Motivation: To understand the individual's perspective on solutions to the problem.\"],\n",
       "  'Conversation': \"Interviewer: Hi Rajni, thank you for taking the time to speak with me today. Are you currently employed?\\n\\nRajni: No, I am not employed.\\n\\nInterviewer: Thank you for letting me know. I would like to understand the extent of the problem. What are the reasons for the lack of job opportunities?\\n\\nRajni: There are not enough jobs available in my area.\\n\\nInterviewer: I understand that there may be a lack of job opportunities in your area. Can you tell me more about the reasons for this?\\n\\nRajni: Well, there are not many companies or industries in my area that are hiring.\\n\\nInterviewer: Thank you for sharing that. I would like to understand what measures you think can be taken to improve access to job opportunities?\\n\\nRajni: The government can create more jobs and provide training programs for people to learn new skills.\\n\\nInterviewer: Thank you for sharing your perspective. Can you tell me more about what kind of training programs you think would be helpful?\\n\\nRajni: Programs that teach skills that are in demand in the job market, like computer skills or technical skills.\\n\\nInterviewer: Thank you for sharing that. Is there anything else you would like to add about the lack of job opportunities in your area?\\n\\nRajni: No, that's all.\\n\\nInterviewer: Thank you so much for your time and for sharing your perspective with me today, Rajni.\"},\n",
       " {'Problem': 'Lack of access to legal aid in India.',\n",
       "  'Indian': 'Alok, 50 years old, male, daily wage worker, Bihar, unable to fight legal battles',\n",
       "  'Questions and Motivations': ['Question: Have you ever faced any legal issues?',\n",
       "   'Motivation: To understand the extent of the problem.',\n",
       "   'Question: Have you ever sought legal aid?',\n",
       "   'Motivation: To understand the support systems available to individuals.',\n",
       "   'Question: What measures do you think can be taken to improve access to legal aid?',\n",
       "   \"Motivation: To understand the individual's perspective on solutions to the problem.\"],\n",
       "  'Conversation': \"Interviewer: Hello Alok, thank you for taking the time to speak with me today. Can you tell me, have you ever faced any legal issues?\\n\\nAlok: Yes, I have faced legal issues in the past.\\n\\nInterviewer: Thank you for sharing that with me. To understand the extent of the problem, can you tell me more about the legal issues you faced?\\n\\nAlok: Well, it was a land dispute with my neighbor. We had a disagreement over the boundary line.\\n\\nInterviewer: I see. Have you ever sought legal aid for this issue or any other legal issues you have faced?\\n\\nAlok: No, I have never sought legal aid. I cannot afford it.\\n\\nInterviewer: Thank you for sharing that with me. To understand the support systems available to individuals, can you tell me if you are aware of any organizations or resources that provide legal aid to those who cannot afford it?\\n\\nAlok: No, I am not aware of any such organizations.\\n\\nInterviewer: Thank you for sharing that with me. To understand the individual's perspective on solutions to the problem, can you tell me what measures you think can be taken to improve access to legal aid?\\n\\nAlok: I think the government should provide free legal aid to those who cannot afford it. They should also make it easier for people to access legal aid.\\n\\nInterviewer: Thank you for sharing your thoughts with me. Is there anything else you would like to add about this issue?\\n\\nAlok: No, that's all I have to say.\\n\\nInterviewer: Thank you for your time and for sharing your experiences and thoughts with me. It was very helpful.\"},\n",
       " {'Problem': 'Lack of access to mental healthcare in India.',\n",
       "  'Indian': 'Neha, 30 years old, female, homemaker, Maharashtra, depression',\n",
       "  'Questions and Motivations': ['Question: Have you ever faced any mental health issues?',\n",
       "   'Motivation: To understand the extent of the problem.',\n",
       "   'Question: Have you sought any mental healthcare?',\n",
       "   'Motivation: To understand the support systems available to individuals.',\n",
       "   'Question: What measures do you think can be taken to improve access to mental healthcare?',\n",
       "   \"Motivation: To understand the individual's perspective on solutions to the problem.\"],\n",
       "  'Conversation': \"Interviewer: Hi Neha, thank you for taking the time to speak with me today. Can you tell me, have you ever faced any mental health issues?\\n\\nNeha: Oh, hi. Yes, I have felt sad and anxious sometimes.\\n\\nInterviewer: I see. Can you tell me more about that? Have you ever been diagnosed with depression or any other mental health condition?\\n\\nNeha: Yes, I have been diagnosed with depression.\\n\\nInterviewer: Thank you for sharing that with me. Have you sought any mental healthcare for your depression?\\n\\nNeha: No, I haven't. I don't really know where to go or who to talk to.\\n\\nInterviewer: I understand. That's a common problem in India. Can you tell me, what measures do you think can be taken to improve access to mental healthcare?\\n\\nNeha: Hmm, I think there should be more awareness about mental health and more resources available for people who need help.\\n\\nInterviewer: That's a great point. Can you tell me more about what kind of resources you think would be helpful?\\n\\nNeha: Maybe more counseling centers or hotlines that people can call if they need someone to talk to.\\n\\nInterviewer: Thank you for sharing your thoughts with me, Neha. I appreciate your time and your insights on this important issue.\"},\n",
       " {'Problem': 'Lack of access to public spaces for women in India.',\n",
       "  'Indian': 'Sakshi, 25 years old, female, student, Delhi, unable to access public spaces',\n",
       "  'Questions and Motivations': ['Question: Have you ever faced any challenges in accessing public spaces?',\n",
       "   'Motivation: To understand the extent of the problem.',\n",
       "   'Question: What are the reasons for the lack of access to public spaces?',\n",
       "   'Motivation: To understand the barriers to accessing public spaces.',\n",
       "   'Question: What measures do you think can be taken to improve access to public spaces for women?',\n",
       "   \"Motivation: To understand the individual's perspective on solutions to the problem.\"],\n",
       "  'Conversation': \"Interviewer: Hi Sakshi, thank you for taking the time to speak with me today. Have you ever faced any challenges in accessing public spaces?\\n\\nSakshi: Yes, I have.\\n\\nInterviewer: Can you tell me more about the challenges you have faced?\\n\\nSakshi: Well, sometimes it's difficult to find a safe and secure place to go to, especially at night.\\n\\nInterviewer: I understand. What are the reasons for the lack of access to public spaces?\\n\\nSakshi: I think it's because of the lack of safety measures and the fear of harassment.\\n\\nInterviewer: That's a valid point. What measures do you think can be taken to improve access to public spaces for women?\\n\\nSakshi: I think there should be more police patrolling and better lighting in public spaces.\\n\\nInterviewer: Those are good suggestions. Is there anything else you think can be done to improve access to public spaces for women?\\n\\nSakshi: Maybe more awareness campaigns to educate people about the importance of women's safety.\\n\\nInterviewer: Thank you for sharing your thoughts with me, Sakshi. Your insights are valuable in understanding the challenges faced by women in accessing public spaces.\"},\n",
       " {'Problem': 'Lack of access to technology in rural areas of India.',\n",
       "  'Indian': 'Rajesh, 35 years old, male, farmer, Andhra Pradesh, unable to access digital services',\n",
       "  'Questions and Motivations': ['Question: Do you have access to technology?',\n",
       "   'Motivation: To understand the extent of the problem.',\n",
       "   'Question: How do you currently manage without technology?',\n",
       "   \"Motivation: To understand the impact of the problem on the individual's daily life.\",\n",
       "   'Question: What measures do you think can be taken to improve access to technology?',\n",
       "   \"Motivation: To understand the individual's perspective on solutions to the problem.\"],\n",
       "  'Conversation': \"Interviewer: Hello Rajesh, thank you for taking the time to speak with me today. Do you have access to technology?\\n\\nRajesh: Technology? What do you mean by that?\\n\\nInterviewer: By technology, I mean devices like smartphones, computers, or the internet.\\n\\nRajesh: Oh, no, I don't have any of those things.\\n\\nInterviewer: Thank you for letting me know. I'm trying to understand the extent of the problem. How do you currently manage without technology?\\n\\nRajesh: Well, I have my farming tools and my family helps me with everything else.\\n\\nInterviewer: I see. Can you tell me more about how not having access to technology affects your daily life?\\n\\nRajesh: It doesn't really affect me that much. I've been doing things the same way for years.\\n\\nInterviewer: I understand. But are there any tasks or activities that you think would be easier if you had access to technology?\\n\\nRajesh: Hmm, I suppose it would be easier to communicate with people outside of my village.\\n\\nInterviewer: Thank you for sharing that. What measures do you think can be taken to improve access to technology in rural areas like yours?\\n\\nRajesh: I'm not sure. Maybe the government could provide more resources or incentives for companies to bring technology to our area.\\n\\nInterviewer: That's a good point. Thank you for your input. Is there anything else you would like to add about this issue?\\n\\nRajesh: No, that's all. Thank you for talking with me.\\n\\nInterviewer: Thank you for your time and insights, Rajesh. Have a good day.\"},\n",
       " {'Problem': 'Lack of access to public toilets for women in India.',\n",
       "  'Indian': 'Sunita, 30 years old, female, daily wage worker, Uttar Pradesh, unable to access public toilets',\n",
       "  'Questions and Motivations': ['Question: Do you have access to public toilets?',\n",
       "   'Motivation: To understand the extent of the problem.',\n",
       "   'Question: What are the reasons for the lack of access to public toilets?',\n",
       "   'Motivation: To understand the barriers to accessing public toilets.',\n",
       "   'Question: What measures do you think can be taken to improve access to public toilets for women?',\n",
       "   \"Motivation: To understand the individual's perspective on solutions to the problem.\"],\n",
       "  'Conversation': \"Interviewer: Hello Sunita, thank you for taking the time to speak with me today. Do you have access to public toilets?\\n\\nSunita: No, I don't.\\n\\nInterviewer: Thank you for your response. Can you tell me what are the reasons for the lack of access to public toilets?\\n\\nSunita: Well, there aren't many public toilets around here. And the ones that are there are usually dirty and not maintained properly.\\n\\nInterviewer: I understand. Can you tell me more about the barriers you face in accessing public toilets?\\n\\nSunita: Sometimes, I have to walk a long distance to find a toilet. And even when I do find one, it's usually not clean or safe to use.\\n\\nInterviewer: Thank you for sharing that with me. What measures do you think can be taken to improve access to public toilets for women?\\n\\nSunita: I think the government should build more public toilets and make sure they are clean and safe to use. They should also be located in areas where women can easily access them.\\n\\nInterviewer: Thank you for your input, Sunita. Your perspective is valuable. Is there anything else you would like to add on this topic?\\n\\nSunita: No, that's all. Thank you for speaking with me.\\n\\nInterviewer: Thank you for your time and for sharing your experiences with me. Have a good day.\"},\n",
       " {'Problem': 'Lack of access to safe public transportation for women in India.',\n",
       "  'Indian': 'Anjali, 25 years old, female, daily wage worker, Haryana, unable to access safe public transportation',\n",
       "  'Questions and Motivations': ['Question: Do you have access to safe public transportation?',\n",
       "   'Motivation: To understand the extent of the problem.',\n",
       "   'Question: What are the reasons for the lack of access to safe public transportation?',\n",
       "   'Motivation: To understand the barriers to accessing safe public transportation.',\n",
       "   'Question: What measures do you think can be taken to improve access to safe public transportation for women?',\n",
       "   \"Motivation: To understand the individual's perspective on solutions to the problem.\"],\n",
       "  'Conversation': \"Interviewer: Hello Anjali, thank you for taking the time to speak with me today. Do you have access to safe public transportation?\\n\\nAnjali: No, I don't have access to any public transportation.\\n\\nInterviewer: I understand. Can you tell me what are the reasons for the lack of access to safe public transportation?\\n\\nAnjali: Well, there are no buses or trains that come to my village. I have to walk a long distance to get to the nearest bus stop.\\n\\nInterviewer: I see. So, the lack of transportation options in your village is a barrier for you to access safe public transportation. Is that correct?\\n\\nAnjali: Yes, that's correct.\\n\\nInterviewer: Thank you for sharing that. What measures do you think can be taken to improve access to safe public transportation for women?\\n\\nAnjali: I think the government should provide more buses and trains to rural areas like mine. They should also make sure that these modes of transportation are safe for women.\\n\\nInterviewer: Thank you for sharing your perspective. I completely agree with you. Is there anything else you would like to add on this topic?\\n\\nAnjali: No, that's all. Thank you for talking to me.\\n\\nInterviewer: Thank you for your time and for sharing your thoughts with me. Have a good day!\"},\n",
       " {'Problem': 'Lack of access to affordable healthcare in India.',\n",
       "  'Indian': 'Rajesh, 40 years old, male, daily wage worker, Gujarat, unable to afford healthcare',\n",
       "  'Questions and Motivations': ['Question: Do you have access to affordable healthcare?',\n",
       "   'Motivation: To understand the extent of the problem.',\n",
       "   'Question: What are the reasons for the lack of access to affordable healthcare?',\n",
       "   'Motivation: To understand the barriers to accessing affordable healthcare.',\n",
       "   'Question: What measures do you think can be taken to improve access to affordable healthcare?',\n",
       "   \"Motivation: To understand the individual's perspective on solutions to the problem.\"],\n",
       "  'Conversation': \"Interviewer: Hello Rajesh, thank you for taking the time to speak with me today. Can you tell me, do you have access to affordable healthcare?\\n\\nRajesh: No, I cannot afford healthcare.\\n\\nInterviewer: Thank you for sharing that with me. To understand the extent of the problem, can you tell me more about why you are unable to afford healthcare?\\n\\nRajesh: It's just too expensive. I have to work every day just to put food on the table for my family.\\n\\nInterviewer: I understand that it can be difficult to afford healthcare when you have other expenses to worry about. Can you tell me more about the specific barriers that prevent you from accessing affordable healthcare?\\n\\nRajesh: Well, I don't have any insurance and I can't afford to pay for medical treatment out of pocket.\\n\\nInterviewer: Thank you for sharing that with me. To understand your perspective on solutions to the problem, what measures do you think can be taken to improve access to affordable healthcare?\\n\\nRajesh: I think the government should provide more subsidies for healthcare and make it more affordable for people like me.\\n\\nInterviewer: Thank you for sharing your thoughts on that. Is there anything else you would like to add about the lack of access to affordable healthcare in India?\\n\\nRajesh: No, that's all I have to say.\\n\\nInterviewer: Thank you so much for your time and for sharing your experiences with me. It was very helpful.\"},\n",
       " {'Problem': 'Lack of access to clean and safe public spaces in India.',\n",
       "  'Indian': 'Sarita, 35 years old, female, homemaker, Uttar Pradesh, unable to access clean and safe public spaces',\n",
       "  'Questions and Motivations': ['Question: Do you have access to clean and safe public spaces?',\n",
       "   'Motivation: To understand the extent of the problem.',\n",
       "   'Question: What are the reasons for the lack of access to clean and safe public spaces?',\n",
       "   'Motivation: To understand the barriers to accessing clean and safe public spaces.',\n",
       "   'Question: What measures do you think can be taken to improve access to clean and safe public spaces?',\n",
       "   \"Motivation: To understand the individual's perspective on solutions to the problem.\"],\n",
       "  'Conversation': \"Interviewer: Hello Sarita, thank you for taking the time to speak with me today. Can you tell me, do you have access to clean and safe public spaces?\\n\\nSarita: Oh, hello. Yes, I suppose I do. There's a park near my house.\\n\\nInterviewer: I see. Can you tell me more about that park? Is it clean and safe?\\n\\nSarita: Well, it's not the cleanest, but it's okay. And I've never had any problems there.\\n\\nInterviewer: Thank you for sharing that. I'm actually interested in understanding the extent of the problem of lack of access to clean and safe public spaces. Can you tell me if you think this is a problem that affects many people in your community?\\n\\nSarita: Oh, yes. Definitely. There are many areas where there are no parks or public spaces at all.\\n\\nInterviewer: Thank you for sharing that. Can you tell me what you think are the reasons for the lack of access to clean and safe public spaces?\\n\\nSarita: Well, I think it's because the government doesn't prioritize these things. They're more focused on other things.\\n\\nInterviewer: I understand. So, you think that lack of government funding is a barrier to accessing clean and safe public spaces?\\n\\nSarita: Yes, that's right.\\n\\nInterviewer: Thank you for sharing that. Finally, I'm interested in understanding what measures you think can be taken to improve access to clean and safe public spaces?\\n\\nSarita: Hmm, well, I think the government should invest more in creating these spaces. And maybe they could work with local communities to maintain them.\\n\\nInterviewer: Thank you for sharing that. It sounds like you believe that government investment and community involvement are important solutions to this problem.\\n\\nSarita: Yes, that's right.\\n\\nInterviewer: Thank you so much for your time and for sharing your perspective with me today, Sarita.\"}]"
      ]
     },
     "execution_count": 16,
     "metadata": {},
     "output_type": "execute_result"
    }
   ],
   "source": [
    "import json\n",
    "file_path = \"../journalist-bot/backend/test_bench/bench_persona_qs_goals_with_conversations.json\"\n",
    "with open(file_path, 'r') as file:\n",
    "    data = json.load(file)\n",
    "data"
   ]
  },
  {
   "cell_type": "code",
   "execution_count": 18,
   "id": "faa93fe3-d452-4651-b2fa-d0afaec6fe94",
   "metadata": {},
   "outputs": [
    {
     "name": "stdout",
     "output_type": "stream",
     "text": [
      "Parsed LLM response : **Analysis:**\n"
     ]
    },
    {
     "data": {
      "text/plain": [
       "'**analysis:**'"
      ]
     },
     "execution_count": 18,
     "metadata": {},
     "output_type": "execute_result"
    }
   ],
   "source": [
    "objective_met_agent(\"Interviewer: Hello Ravi, thank you for taking the time to speak with me today. \\\n",
    "Can you tell me if there are any schools in your village?\\n\\nRavi: Yes, there is a school nearby.\\\n",
    "\\n\\nInterviewer: That's great to hear. Can you tell me if you face any challenges in attending school?\\\n",
    "\\n\\nRavi: Well, sometimes I have to help my father on the farm, so I can't always go to school.\\\n",
    "\\n\\nInterviewer: I understand. nInterviewer: I see. Can you tell me what kind of education you aspire to receive?\\n\\nRavi: I want to learn how to read and write so I can help my family and become a teacher one day.\",\\\n",
    "\"What kind of education do you aspire to receive?\",\\\n",
    "\"To understand the aspirations of the individual and how it aligns with the current education system.\")"
   ]
  },
  {
   "cell_type": "code",
   "execution_count": 9,
   "id": "2f6abf1f-78b3-4c79-8a6d-a53bcb39d58d",
   "metadata": {},
   "outputs": [
    {
     "name": "stdout",
     "output_type": "stream",
     "text": [
      "Parsed LLM response : **Analysis:**\n"
     ]
    },
    {
     "data": {
      "text/plain": [
       "'**analysis:**'"
      ]
     },
     "execution_count": 9,
     "metadata": {},
     "output_type": "execute_result"
    }
   ],
   "source": [
    "objective_met_agent(\"Lack of access to education in rural areas of India.\",\\\n",
    "\"Are there any schools in your village?'\",\\\n",
    "\"Maybe\")"
   ]
  },
  {
   "cell_type": "code",
   "execution_count": null,
   "id": "81f87aaa-7e5a-4dbc-8fd9-03c0bb30d74b",
   "metadata": {},
   "outputs": [],
   "source": [
    "objective_met_agent(\"Lack of access to education in rural areas of India.\",\\\n",
    "\"Are there any schools in your village?'\",\\\n",
    "\"Probably\")"
   ]
  }
 ],
 "metadata": {
  "kernelspec": {
   "display_name": "Python 3 (ipykernel)",
   "language": "python",
   "name": "python3"
  },
  "language_info": {
   "codemirror_mode": {
    "name": "ipython",
    "version": 3
   },
   "file_extension": ".py",
   "mimetype": "text/x-python",
   "name": "python",
   "nbconvert_exporter": "python",
   "pygments_lexer": "ipython3",
   "version": "3.10.12"
  }
 },
 "nbformat": 4,
 "nbformat_minor": 5
}
