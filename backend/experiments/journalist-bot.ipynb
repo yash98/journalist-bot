{
 "cells": [
  {
   "cell_type": "code",
   "execution_count": 12,
   "metadata": {},
   "outputs": [],
   "source": [
    "import requests\n",
    "import sys\n",
    "sys.path.append('/home/myntra/pushkar_playground/phi2')\n",
    "from s_obj_met_agent import objective_met_agent\n",
    "from question_generation_agent import question_generation_agent\n",
    "from pydantic import BaseModel\n",
    "from typing import List, Dict, Union, Tuple\n"
   ]
  },
  {
   "cell_type": "code",
   "execution_count": 9,
   "metadata": {},
   "outputs": [],
   "source": [
    "def generate_response(prompt, max_new_tokens=200):\n",
    "    # Set the API endpoint URL\n",
    "    api_url = \"http://10.12.0.67:8080/generate-response\"  # Update with your actual server URL\n",
    "    \n",
    "    # Prepare the request payload\n",
    "    prompt_data = {\"prompt\": prompt, \"max_new_tokens\" : max_new_tokens}\n",
    "    \n",
    "    # Send the POST request\n",
    "    response = requests.post(api_url, json=prompt_data)\n",
    "    if response.status_code == 200:\n",
    "        # The request was successful\n",
    "        generated_text = response.json()[\"generated_text\"]\n",
    "        # print(f\"Generated Text: {generated_text}\")\n",
    "        return generated_text\n",
    "    else:\n",
    "        # Something went wrong\n",
    "        print(f\"Error: {response.status_code}, {response.text}\")\n",
    "        return None"
   ]
  },
  {
   "cell_type": "code",
   "execution_count": 13,
   "metadata": {},
   "outputs": [],
   "source": [
    "class QuestionConfig(BaseModel):\n",
    "\tfollowup_depth: int\n",
    "\tcriteria: List[str]\n",
    "\n",
    "class Question(BaseModel):\n",
    "\tquestion: str\n",
    "\tquestion_config: QuestionConfig"
   ]
  },
  {
   "cell_type": "code",
   "execution_count": null,
   "metadata": {},
   "outputs": [],
   "source": [
    "class SurveyBotV1(BaseModel):\n",
    "\tquestion_generation_agent = question_generation_agent\n",
    "\tobjective_met_agent = objective_met_agent\n",
    "\tuser_characteristics: Dict[str, Union[str, int, float, bool, None]] = {}\n",
    "\tchat_history: List[List[Tuple[int, str, str]]] = []\n",
    "\tfixed_questions: List[Tuple[Question, List[str]]] = []\n",
    "\tcurrent_question_index: int = 0\n",
    "\tcurrent_question_followup_depth: int = 0\n",
    "\n",
    "\tdef get_next_question(user_answer: str):\n",
    "\t\tobjective_remaining_list = question_generation_agent(chat_history, \\\n",
    "\t\tfixed_questions[current_question_index].question, objectives_left)\n",
    "\t\tif len(objective_remaining_list) == 0 or current_question_followup_depth >= fixed_questions[current_question_index][0].question_config.followup_depth:\n",
    "\t\t\tcurrent_question_index += 1\n",
    "\t\t\tcurrent_question_follow_up_depth = 0\n",
    "\t\t\tif len(fixed_questions) > current_question_index:\n",
    "\t\t\t\treturn fixed_questions[current_question_index]\n",
    "\t\t\telse:\n",
    "\t\t\t\tNone\n",
    "\t\t\n",
    "\t\tcurrent_question_follow_up_depth += 1\n",
    "\t\treturn question_generation_agent(chat_history, fixed_questions[current_question_index][0].question, \\\n",
    "\t\t\tfixed_questions[current_question_index][1], user_charecteristics)"
   ]
  }
 ],
 "metadata": {
  "kernelspec": {
   "display_name": "Python 3 (ipykernel)",
   "language": "python",
   "name": "python3"
  },
  "language_info": {
   "codemirror_mode": {
    "name": "ipython",
    "version": 3
   },
   "file_extension": ".py",
   "mimetype": "text/x-python",
   "name": "python",
   "nbconvert_exporter": "python",
   "pygments_lexer": "ipython3",
   "version": "3.9.0"
  }
 },
 "nbformat": 4,
 "nbformat_minor": 2
}
